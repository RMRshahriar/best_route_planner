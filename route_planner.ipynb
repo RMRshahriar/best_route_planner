{
 "cells": [
  {
   "attachments": {},
   "cell_type": "markdown",
   "metadata": {},
   "source": [
    "# IMPORT"
   ]
  },
  {
   "attachments": {},
   "cell_type": "markdown",
   "metadata": {},
   "source": [
    "#### IMPORTING REQUIRED MODULE"
   ]
  },
  {
   "cell_type": "code",
   "execution_count": 101,
   "metadata": {},
   "outputs": [],
   "source": [
    "import pandas as pd\n",
    "from sklearn.model_selection import train_test_split\n",
    "from  sklearn import preprocessing\n",
    "import matplotlib.pyplot as plt\n",
    "import numpy as np\n",
    "from sklearn.inspection import permutation_importance\n",
    "from IPython.display import Image, display\n",
    "from queue import PriorityQueue\n",
    "import datetime \n",
    "import random\n",
    "from sklearn.metrics import r2_score\n",
    "from sklearn.ensemble import GradientBoostingRegressor\n",
    "from sklearn.model_selection import GridSearchCV\n",
    "from sklearn.metrics import mean_absolute_error\n",
    "from sklearn.metrics import mean_squared_error, mean_squared_log_error\n",
    "from sklearn.metrics import mean_squared_log_error\n",
    "from sklearn.metrics import median_absolute_error\n",
    "from sklearn.metrics import explained_variance_score\n",
    "from sklearn.metrics import max_error\n",
    "from sklearn.linear_model import LinearRegression\n",
    "from sklearn.tree import DecisionTreeRegressor \n",
    "from sklearn.ensemble import HistGradientBoostingRegressor\n",
    "from sklearn.ensemble import RandomForestRegressor\n",
    "\n"
   ]
  },
  {
   "attachments": {},
   "cell_type": "markdown",
   "metadata": {},
   "source": [
    "# MAP"
   ]
  },
  {
   "attachments": {},
   "cell_type": "markdown",
   "metadata": {},
   "source": [
    "#### MAP OF OPERATIONAL AREA"
   ]
  },
  {
   "attachments": {},
   "cell_type": "markdown",
   "metadata": {},
   "source": [
    "![map](map.png \"Map Represented in Graph\")"
   ]
  },
  {
   "attachments": {},
   "cell_type": "markdown",
   "metadata": {},
   "source": [
    "# DATASET"
   ]
  },
  {
   "attachments": {},
   "cell_type": "markdown",
   "metadata": {},
   "source": [
    "#### IMPORTING DATASET"
   ]
  },
  {
   "cell_type": "code",
   "execution_count": 102,
   "metadata": {},
   "outputs": [],
   "source": [
    "traffic_data = pd.read_csv('/home/rafi/cse404/project/traffic_dataset.csv')"
   ]
  },
  {
   "cell_type": "code",
   "execution_count": 103,
   "metadata": {},
   "outputs": [
    {
     "data": {
      "text/html": [
       "<div>\n",
       "<style scoped>\n",
       "    .dataframe tbody tr th:only-of-type {\n",
       "        vertical-align: middle;\n",
       "    }\n",
       "\n",
       "    .dataframe tbody tr th {\n",
       "        vertical-align: top;\n",
       "    }\n",
       "\n",
       "    .dataframe thead th {\n",
       "        text-align: right;\n",
       "    }\n",
       "</style>\n",
       "<table border=\"1\" class=\"dataframe\">\n",
       "  <thead>\n",
       "    <tr style=\"text-align: right;\">\n",
       "      <th></th>\n",
       "      <th>location</th>\n",
       "      <th>month</th>\n",
       "      <th>day</th>\n",
       "      <th>date</th>\n",
       "      <th>time_block</th>\n",
       "      <th>weather</th>\n",
       "      <th>traffic_indicator</th>\n",
       "    </tr>\n",
       "  </thead>\n",
       "  <tbody>\n",
       "    <tr>\n",
       "      <th>0</th>\n",
       "      <td>begum_rokeya</td>\n",
       "      <td>apr</td>\n",
       "      <td>fri</td>\n",
       "      <td>1</td>\n",
       "      <td>a</td>\n",
       "      <td>1</td>\n",
       "      <td>3</td>\n",
       "    </tr>\n",
       "    <tr>\n",
       "      <th>1</th>\n",
       "      <td>begum_rokeya</td>\n",
       "      <td>apr</td>\n",
       "      <td>fri</td>\n",
       "      <td>1</td>\n",
       "      <td>b</td>\n",
       "      <td>1</td>\n",
       "      <td>3</td>\n",
       "    </tr>\n",
       "    <tr>\n",
       "      <th>2</th>\n",
       "      <td>begum_rokeya</td>\n",
       "      <td>apr</td>\n",
       "      <td>fri</td>\n",
       "      <td>1</td>\n",
       "      <td>c</td>\n",
       "      <td>1</td>\n",
       "      <td>3</td>\n",
       "    </tr>\n",
       "    <tr>\n",
       "      <th>3</th>\n",
       "      <td>begum_rokeya</td>\n",
       "      <td>apr</td>\n",
       "      <td>fri</td>\n",
       "      <td>1</td>\n",
       "      <td>d</td>\n",
       "      <td>1</td>\n",
       "      <td>3</td>\n",
       "    </tr>\n",
       "    <tr>\n",
       "      <th>4</th>\n",
       "      <td>begum_rokeya</td>\n",
       "      <td>apr</td>\n",
       "      <td>fri</td>\n",
       "      <td>1</td>\n",
       "      <td>e</td>\n",
       "      <td>1</td>\n",
       "      <td>3</td>\n",
       "    </tr>\n",
       "    <tr>\n",
       "      <th>...</th>\n",
       "      <td>...</td>\n",
       "      <td>...</td>\n",
       "      <td>...</td>\n",
       "      <td>...</td>\n",
       "      <td>...</td>\n",
       "      <td>...</td>\n",
       "      <td>...</td>\n",
       "    </tr>\n",
       "    <tr>\n",
       "      <th>87655</th>\n",
       "      <td>mirpur_14</td>\n",
       "      <td>sep</td>\n",
       "      <td>wed</td>\n",
       "      <td>30</td>\n",
       "      <td>b</td>\n",
       "      <td>3</td>\n",
       "      <td>2</td>\n",
       "    </tr>\n",
       "    <tr>\n",
       "      <th>87656</th>\n",
       "      <td>mirpur_14</td>\n",
       "      <td>sep</td>\n",
       "      <td>wed</td>\n",
       "      <td>30</td>\n",
       "      <td>c</td>\n",
       "      <td>3</td>\n",
       "      <td>2</td>\n",
       "    </tr>\n",
       "    <tr>\n",
       "      <th>87657</th>\n",
       "      <td>mirpur_14</td>\n",
       "      <td>sep</td>\n",
       "      <td>wed</td>\n",
       "      <td>30</td>\n",
       "      <td>d</td>\n",
       "      <td>3</td>\n",
       "      <td>2</td>\n",
       "    </tr>\n",
       "    <tr>\n",
       "      <th>87658</th>\n",
       "      <td>mirpur_14</td>\n",
       "      <td>sep</td>\n",
       "      <td>wed</td>\n",
       "      <td>30</td>\n",
       "      <td>e</td>\n",
       "      <td>3</td>\n",
       "      <td>3</td>\n",
       "    </tr>\n",
       "    <tr>\n",
       "      <th>87659</th>\n",
       "      <td>mirpur_14</td>\n",
       "      <td>sep</td>\n",
       "      <td>wed</td>\n",
       "      <td>30</td>\n",
       "      <td>f</td>\n",
       "      <td>3</td>\n",
       "      <td>3</td>\n",
       "    </tr>\n",
       "  </tbody>\n",
       "</table>\n",
       "<p>87660 rows × 7 columns</p>\n",
       "</div>"
      ],
      "text/plain": [
       "           location month  day  date time_block  weather  traffic_indicator\n",
       "0      begum_rokeya   apr  fri     1          a        1                  3\n",
       "1      begum_rokeya   apr  fri     1          b        1                  3\n",
       "2      begum_rokeya   apr  fri     1          c        1                  3\n",
       "3      begum_rokeya   apr  fri     1          d        1                  3\n",
       "4      begum_rokeya   apr  fri     1          e        1                  3\n",
       "...             ...   ...  ...   ...        ...      ...                ...\n",
       "87655     mirpur_14   sep  wed    30          b        3                  2\n",
       "87656     mirpur_14   sep  wed    30          c        3                  2\n",
       "87657     mirpur_14   sep  wed    30          d        3                  2\n",
       "87658     mirpur_14   sep  wed    30          e        3                  3\n",
       "87659     mirpur_14   sep  wed    30          f        3                  3\n",
       "\n",
       "[87660 rows x 7 columns]"
      ]
     },
     "execution_count": 103,
     "metadata": {},
     "output_type": "execute_result"
    }
   ],
   "source": [
    "traffic_data"
   ]
  },
  {
   "cell_type": "code",
   "execution_count": 104,
   "metadata": {},
   "outputs": [],
   "source": [
    "colN = ['location', 'month', 'day', 'date', 'time_block', 'weather', 'traffic_indicator']"
   ]
  },
  {
   "attachments": {},
   "cell_type": "markdown",
   "metadata": {},
   "source": [
    "#### ASSIGNING FEATURE AND TARGET"
   ]
  },
  {
   "cell_type": "code",
   "execution_count": 105,
   "metadata": {},
   "outputs": [],
   "source": [
    "X=traffic_data.drop(columns=['traffic_indicator'])\n",
    "Y=traffic_data['traffic_indicator']"
   ]
  },
  {
   "cell_type": "code",
   "execution_count": 106,
   "metadata": {},
   "outputs": [
    {
     "data": {
      "text/plain": [
       "0        3\n",
       "1        3\n",
       "2        3\n",
       "3        3\n",
       "4        3\n",
       "        ..\n",
       "87655    2\n",
       "87656    2\n",
       "87657    2\n",
       "87658    3\n",
       "87659    3\n",
       "Name: traffic_indicator, Length: 87660, dtype: int64"
      ]
     },
     "execution_count": 106,
     "metadata": {},
     "output_type": "execute_result"
    }
   ],
   "source": [
    "Y"
   ]
  },
  {
   "cell_type": "code",
   "execution_count": 107,
   "metadata": {},
   "outputs": [
    {
     "data": {
      "text/html": [
       "<div>\n",
       "<style scoped>\n",
       "    .dataframe tbody tr th:only-of-type {\n",
       "        vertical-align: middle;\n",
       "    }\n",
       "\n",
       "    .dataframe tbody tr th {\n",
       "        vertical-align: top;\n",
       "    }\n",
       "\n",
       "    .dataframe thead th {\n",
       "        text-align: right;\n",
       "    }\n",
       "</style>\n",
       "<table border=\"1\" class=\"dataframe\">\n",
       "  <thead>\n",
       "    <tr style=\"text-align: right;\">\n",
       "      <th></th>\n",
       "      <th>location</th>\n",
       "      <th>month</th>\n",
       "      <th>day</th>\n",
       "      <th>date</th>\n",
       "      <th>time_block</th>\n",
       "      <th>weather</th>\n",
       "    </tr>\n",
       "  </thead>\n",
       "  <tbody>\n",
       "    <tr>\n",
       "      <th>0</th>\n",
       "      <td>begum_rokeya</td>\n",
       "      <td>apr</td>\n",
       "      <td>fri</td>\n",
       "      <td>1</td>\n",
       "      <td>a</td>\n",
       "      <td>1</td>\n",
       "    </tr>\n",
       "    <tr>\n",
       "      <th>1</th>\n",
       "      <td>begum_rokeya</td>\n",
       "      <td>apr</td>\n",
       "      <td>fri</td>\n",
       "      <td>1</td>\n",
       "      <td>b</td>\n",
       "      <td>1</td>\n",
       "    </tr>\n",
       "    <tr>\n",
       "      <th>2</th>\n",
       "      <td>begum_rokeya</td>\n",
       "      <td>apr</td>\n",
       "      <td>fri</td>\n",
       "      <td>1</td>\n",
       "      <td>c</td>\n",
       "      <td>1</td>\n",
       "    </tr>\n",
       "    <tr>\n",
       "      <th>3</th>\n",
       "      <td>begum_rokeya</td>\n",
       "      <td>apr</td>\n",
       "      <td>fri</td>\n",
       "      <td>1</td>\n",
       "      <td>d</td>\n",
       "      <td>1</td>\n",
       "    </tr>\n",
       "    <tr>\n",
       "      <th>4</th>\n",
       "      <td>begum_rokeya</td>\n",
       "      <td>apr</td>\n",
       "      <td>fri</td>\n",
       "      <td>1</td>\n",
       "      <td>e</td>\n",
       "      <td>1</td>\n",
       "    </tr>\n",
       "    <tr>\n",
       "      <th>...</th>\n",
       "      <td>...</td>\n",
       "      <td>...</td>\n",
       "      <td>...</td>\n",
       "      <td>...</td>\n",
       "      <td>...</td>\n",
       "      <td>...</td>\n",
       "    </tr>\n",
       "    <tr>\n",
       "      <th>87655</th>\n",
       "      <td>mirpur_14</td>\n",
       "      <td>sep</td>\n",
       "      <td>wed</td>\n",
       "      <td>30</td>\n",
       "      <td>b</td>\n",
       "      <td>3</td>\n",
       "    </tr>\n",
       "    <tr>\n",
       "      <th>87656</th>\n",
       "      <td>mirpur_14</td>\n",
       "      <td>sep</td>\n",
       "      <td>wed</td>\n",
       "      <td>30</td>\n",
       "      <td>c</td>\n",
       "      <td>3</td>\n",
       "    </tr>\n",
       "    <tr>\n",
       "      <th>87657</th>\n",
       "      <td>mirpur_14</td>\n",
       "      <td>sep</td>\n",
       "      <td>wed</td>\n",
       "      <td>30</td>\n",
       "      <td>d</td>\n",
       "      <td>3</td>\n",
       "    </tr>\n",
       "    <tr>\n",
       "      <th>87658</th>\n",
       "      <td>mirpur_14</td>\n",
       "      <td>sep</td>\n",
       "      <td>wed</td>\n",
       "      <td>30</td>\n",
       "      <td>e</td>\n",
       "      <td>3</td>\n",
       "    </tr>\n",
       "    <tr>\n",
       "      <th>87659</th>\n",
       "      <td>mirpur_14</td>\n",
       "      <td>sep</td>\n",
       "      <td>wed</td>\n",
       "      <td>30</td>\n",
       "      <td>f</td>\n",
       "      <td>3</td>\n",
       "    </tr>\n",
       "  </tbody>\n",
       "</table>\n",
       "<p>87660 rows × 6 columns</p>\n",
       "</div>"
      ],
      "text/plain": [
       "           location month  day  date time_block  weather\n",
       "0      begum_rokeya   apr  fri     1          a        1\n",
       "1      begum_rokeya   apr  fri     1          b        1\n",
       "2      begum_rokeya   apr  fri     1          c        1\n",
       "3      begum_rokeya   apr  fri     1          d        1\n",
       "4      begum_rokeya   apr  fri     1          e        1\n",
       "...             ...   ...  ...   ...        ...      ...\n",
       "87655     mirpur_14   sep  wed    30          b        3\n",
       "87656     mirpur_14   sep  wed    30          c        3\n",
       "87657     mirpur_14   sep  wed    30          d        3\n",
       "87658     mirpur_14   sep  wed    30          e        3\n",
       "87659     mirpur_14   sep  wed    30          f        3\n",
       "\n",
       "[87660 rows x 6 columns]"
      ]
     },
     "execution_count": 107,
     "metadata": {},
     "output_type": "execute_result"
    }
   ],
   "source": [
    "X"
   ]
  },
  {
   "attachments": {},
   "cell_type": "markdown",
   "metadata": {},
   "source": [
    "#### DATA PREPROCESSING"
   ]
  },
  {
   "cell_type": "code",
   "execution_count": 108,
   "metadata": {},
   "outputs": [],
   "source": [
    "le=preprocessing.LabelEncoder()"
   ]
  },
  {
   "cell_type": "code",
   "execution_count": 109,
   "metadata": {},
   "outputs": [],
   "source": [
    "encoded_location = le.fit_transform(traffic_data['location'])\n",
    "encoded_month = le.fit_transform(traffic_data['month'])\n",
    "encoded_day = le.fit_transform(traffic_data['day'])\n",
    "encoded_date = le.fit_transform(traffic_data['date'])\n",
    "encoded_time_block = le.fit_transform(traffic_data['time_block'])\n",
    "encoded_weather = le.fit_transform(traffic_data['weather'])\n",
    "encoded_traffic_indicator = le.fit_transform(traffic_data['traffic_indicator'])"
   ]
  },
  {
   "cell_type": "code",
   "execution_count": 110,
   "metadata": {},
   "outputs": [],
   "source": [
    "X = np.array(list(zip(encoded_location, encoded_month, encoded_day, encoded_date, encoded_time_block, encoded_weather)))\n",
    "Y = encoded_traffic_indicator"
   ]
  },
  {
   "attachments": {},
   "cell_type": "markdown",
   "metadata": {},
   "source": [
    "#### SPLITTING INTO TRAIN & TEST"
   ]
  },
  {
   "cell_type": "code",
   "execution_count": 111,
   "metadata": {},
   "outputs": [],
   "source": [
    "X_train, X_test, Y_train, Y_test = train_test_split(X,Y,test_size=0.2)"
   ]
  },
  {
   "attachments": {},
   "cell_type": "markdown",
   "metadata": {},
   "source": [
    "# DECISION TREE REGRESSOR"
   ]
  },
  {
   "attachments": {},
   "cell_type": "markdown",
   "metadata": {},
   "source": [
    "#### MODEL SELECTION"
   ]
  },
  {
   "cell_type": "code",
   "execution_count": 112,
   "metadata": {},
   "outputs": [],
   "source": [
    "model =DecisionTreeRegressor()"
   ]
  },
  {
   "attachments": {},
   "cell_type": "markdown",
   "metadata": {},
   "source": [
    "#### MODEL TRAIN - GRADIENT BOOSTING REGRESSOR"
   ]
  },
  {
   "cell_type": "code",
   "execution_count": 113,
   "metadata": {},
   "outputs": [
    {
     "data": {
      "text/html": [
       "<style>#sk-container-id-6 {color: black;background-color: white;}#sk-container-id-6 pre{padding: 0;}#sk-container-id-6 div.sk-toggleable {background-color: white;}#sk-container-id-6 label.sk-toggleable__label {cursor: pointer;display: block;width: 100%;margin-bottom: 0;padding: 0.3em;box-sizing: border-box;text-align: center;}#sk-container-id-6 label.sk-toggleable__label-arrow:before {content: \"▸\";float: left;margin-right: 0.25em;color: #696969;}#sk-container-id-6 label.sk-toggleable__label-arrow:hover:before {color: black;}#sk-container-id-6 div.sk-estimator:hover label.sk-toggleable__label-arrow:before {color: black;}#sk-container-id-6 div.sk-toggleable__content {max-height: 0;max-width: 0;overflow: hidden;text-align: left;background-color: #f0f8ff;}#sk-container-id-6 div.sk-toggleable__content pre {margin: 0.2em;color: black;border-radius: 0.25em;background-color: #f0f8ff;}#sk-container-id-6 input.sk-toggleable__control:checked~div.sk-toggleable__content {max-height: 200px;max-width: 100%;overflow: auto;}#sk-container-id-6 input.sk-toggleable__control:checked~label.sk-toggleable__label-arrow:before {content: \"▾\";}#sk-container-id-6 div.sk-estimator input.sk-toggleable__control:checked~label.sk-toggleable__label {background-color: #d4ebff;}#sk-container-id-6 div.sk-label input.sk-toggleable__control:checked~label.sk-toggleable__label {background-color: #d4ebff;}#sk-container-id-6 input.sk-hidden--visually {border: 0;clip: rect(1px 1px 1px 1px);clip: rect(1px, 1px, 1px, 1px);height: 1px;margin: -1px;overflow: hidden;padding: 0;position: absolute;width: 1px;}#sk-container-id-6 div.sk-estimator {font-family: monospace;background-color: #f0f8ff;border: 1px dotted black;border-radius: 0.25em;box-sizing: border-box;margin-bottom: 0.5em;}#sk-container-id-6 div.sk-estimator:hover {background-color: #d4ebff;}#sk-container-id-6 div.sk-parallel-item::after {content: \"\";width: 100%;border-bottom: 1px solid gray;flex-grow: 1;}#sk-container-id-6 div.sk-label:hover label.sk-toggleable__label {background-color: #d4ebff;}#sk-container-id-6 div.sk-serial::before {content: \"\";position: absolute;border-left: 1px solid gray;box-sizing: border-box;top: 0;bottom: 0;left: 50%;z-index: 0;}#sk-container-id-6 div.sk-serial {display: flex;flex-direction: column;align-items: center;background-color: white;padding-right: 0.2em;padding-left: 0.2em;position: relative;}#sk-container-id-6 div.sk-item {position: relative;z-index: 1;}#sk-container-id-6 div.sk-parallel {display: flex;align-items: stretch;justify-content: center;background-color: white;position: relative;}#sk-container-id-6 div.sk-item::before, #sk-container-id-6 div.sk-parallel-item::before {content: \"\";position: absolute;border-left: 1px solid gray;box-sizing: border-box;top: 0;bottom: 0;left: 50%;z-index: -1;}#sk-container-id-6 div.sk-parallel-item {display: flex;flex-direction: column;z-index: 1;position: relative;background-color: white;}#sk-container-id-6 div.sk-parallel-item:first-child::after {align-self: flex-end;width: 50%;}#sk-container-id-6 div.sk-parallel-item:last-child::after {align-self: flex-start;width: 50%;}#sk-container-id-6 div.sk-parallel-item:only-child::after {width: 0;}#sk-container-id-6 div.sk-dashed-wrapped {border: 1px dashed gray;margin: 0 0.4em 0.5em 0.4em;box-sizing: border-box;padding-bottom: 0.4em;background-color: white;}#sk-container-id-6 div.sk-label label {font-family: monospace;font-weight: bold;display: inline-block;line-height: 1.2em;}#sk-container-id-6 div.sk-label-container {text-align: center;}#sk-container-id-6 div.sk-container {/* jupyter's `normalize.less` sets `[hidden] { display: none; }` but bootstrap.min.css set `[hidden] { display: none !important; }` so we also need the `!important` here to be able to override the default hidden behavior on the sphinx rendered scikit-learn.org. See: https://github.com/scikit-learn/scikit-learn/issues/21755 */display: inline-block !important;position: relative;}#sk-container-id-6 div.sk-text-repr-fallback {display: none;}</style><div id=\"sk-container-id-6\" class=\"sk-top-container\"><div class=\"sk-text-repr-fallback\"><pre>DecisionTreeRegressor()</pre><b>In a Jupyter environment, please rerun this cell to show the HTML representation or trust the notebook. <br />On GitHub, the HTML representation is unable to render, please try loading this page with nbviewer.org.</b></div><div class=\"sk-container\" hidden><div class=\"sk-item\"><div class=\"sk-estimator sk-toggleable\"><input class=\"sk-toggleable__control sk-hidden--visually\" id=\"sk-estimator-id-6\" type=\"checkbox\" checked><label for=\"sk-estimator-id-6\" class=\"sk-toggleable__label sk-toggleable__label-arrow\">DecisionTreeRegressor</label><div class=\"sk-toggleable__content\"><pre>DecisionTreeRegressor()</pre></div></div></div></div></div>"
      ],
      "text/plain": [
       "DecisionTreeRegressor()"
      ]
     },
     "execution_count": 113,
     "metadata": {},
     "output_type": "execute_result"
    }
   ],
   "source": [
    "model.fit(X_train, Y_train)"
   ]
  },
  {
   "attachments": {},
   "cell_type": "markdown",
   "metadata": {},
   "source": [
    "# TESTING & EVALUATION"
   ]
  },
  {
   "cell_type": "code",
   "execution_count": 114,
   "metadata": {},
   "outputs": [],
   "source": [
    "prediction = model.predict(X_test)"
   ]
  },
  {
   "cell_type": "code",
   "execution_count": 115,
   "metadata": {},
   "outputs": [
    {
     "data": {
      "image/png": "[encoded data removed]",
      "text/plain": [
       "<Figure size 640x480 with 1 Axes>"
      ]
     },
     "metadata": {},
     "output_type": "display_data"
    }
   ],
   "source": [
    "x_ax = range(len(Y_test))\n",
    "plt.scatter(x_ax, Y_test, s=5, color=\"blue\", label=\"original\")\n",
    "plt.plot(x_ax, prediction, lw=0.8, color=\"red\", label=\"predicted\")\n",
    "plt.legend()\n",
    "plt.show()"
   ]
  },
  {
   "attachments": {},
   "cell_type": "markdown",
   "metadata": {},
   "source": [
    "#### MEAN SQUARE ERROR"
   ]
  },
  {
   "cell_type": "code",
   "execution_count": 116,
   "metadata": {},
   "outputs": [],
   "source": [
    "dt_mse = mean_squared_error(Y_test, prediction)"
   ]
  },
  {
   "cell_type": "code",
   "execution_count": 117,
   "metadata": {},
   "outputs": [
    {
     "data": {
      "text/plain": [
       "0.1109970339949806"
      ]
     },
     "execution_count": 117,
     "metadata": {},
     "output_type": "execute_result"
    }
   ],
   "source": [
    "dt_mse"
   ]
  },
  {
   "attachments": {},
   "cell_type": "markdown",
   "metadata": {},
   "source": [
    "#### R2 SCORE (COEFFICIENT OF DETERMINATION)"
   ]
  },
  {
   "cell_type": "code",
   "execution_count": 118,
   "metadata": {},
   "outputs": [
    {
     "name": "stdout",
     "output_type": "stream",
     "text": [
      "Test R^2     : 0.750\n",
      "Test R^2     : 0.750\n",
      "Training R^2 : 1.000\n"
     ]
    }
   ],
   "source": [
    "print('Test R^2     : %.3f'%r2_score(Y_test, prediction))\n",
    "print('Test R^2     : %.3f'%model.score(X_test, Y_test))\n",
    "print('Training R^2 : %.3f'%model.score(X_train, Y_train))\n",
    "dt_r2 = model.score(X_test, Y_test)"
   ]
  },
  {
   "attachments": {},
   "cell_type": "markdown",
   "metadata": {},
   "source": [
    "#### MEAN ABSOLUTE ERROR (MAE)"
   ]
  },
  {
   "cell_type": "code",
   "execution_count": 119,
   "metadata": {},
   "outputs": [
    {
     "name": "stdout",
     "output_type": "stream",
     "text": [
      "Test MAE  : 0.110\n",
      "Train MAE : 0.000\n"
     ]
    }
   ],
   "source": [
    "print('Test MAE  : %.3f'%mean_absolute_error(Y_test, prediction))\n",
    "print('Train MAE : %.3f'%mean_absolute_error(Y_train, model.predict(X_train)))\n",
    "dt_mae = mean_absolute_error(Y_test, prediction)"
   ]
  },
  {
   "attachments": {},
   "cell_type": "markdown",
   "metadata": {},
   "source": [
    "#### MEAN SQUARED LOG ERROR"
   ]
  },
  {
   "cell_type": "code",
   "execution_count": 120,
   "metadata": {},
   "outputs": [
    {
     "name": "stdout",
     "output_type": "stream",
     "text": [
      "Mean Squared Log Error : 0.038\n"
     ]
    }
   ],
   "source": [
    "print(\"Mean Squared Log Error : {:.3f}\".format(mean_squared_log_error(Y_test, prediction)))\n",
    "dt_msle = mean_squared_log_error(Y_test, prediction)"
   ]
  },
  {
   "attachments": {},
   "cell_type": "markdown",
   "metadata": {},
   "source": [
    "#### MEDIAN ABSOLUTE ERROR"
   ]
  },
  {
   "cell_type": "code",
   "execution_count": 121,
   "metadata": {},
   "outputs": [
    {
     "name": "stdout",
     "output_type": "stream",
     "text": [
      "Median Absolute Error : 0.0\n"
     ]
    }
   ],
   "source": [
    "print('Median Absolute Error : {}'.format(median_absolute_error(Y_test, prediction)))\n",
    "dt_mad = median_absolute_error(Y_test, prediction)"
   ]
  },
  {
   "attachments": {},
   "cell_type": "markdown",
   "metadata": {},
   "source": [
    "#### MAXIMUM RESIDUAL ERROR"
   ]
  },
  {
   "cell_type": "code",
   "execution_count": 122,
   "metadata": {},
   "outputs": [
    {
     "name": "stdout",
     "output_type": "stream",
     "text": [
      "Maximum Residual Error : 2.000\n"
     ]
    }
   ],
   "source": [
    "print('Maximum Residual Error : {:.3f}'.format(max_error(Y_test, prediction)))\n",
    "dt_mre = max_error(Y_test, prediction)"
   ]
  },
  {
   "attachments": {},
   "cell_type": "markdown",
   "metadata": {},
   "source": [
    "#### EXPLAINED VARIANCE ERROR"
   ]
  },
  {
   "cell_type": "code",
   "execution_count": 123,
   "metadata": {},
   "outputs": [
    {
     "name": "stdout",
     "output_type": "stream",
     "text": [
      "Explained Variance Error : 0.750\n"
     ]
    }
   ],
   "source": [
    "print('Explained Variance Error : {:.3f}'.format(explained_variance_score(Y_test, prediction)))\n",
    "dt_eve = explained_variance_score(Y_test, prediction)"
   ]
  },
  {
   "attachments": {},
   "cell_type": "markdown",
   "metadata": {},
   "source": [
    "# RANDOM FOREST REGRESSOR"
   ]
  },
  {
   "attachments": {},
   "cell_type": "markdown",
   "metadata": {},
   "source": [
    "#### MODEL SELECTION"
   ]
  },
  {
   "cell_type": "code",
   "execution_count": 124,
   "metadata": {},
   "outputs": [],
   "source": [
    "model = RandomForestRegressor()"
   ]
  },
  {
   "attachments": {},
   "cell_type": "markdown",
   "metadata": {},
   "source": [
    "#### MODEL TRAIN - GRADIENT BOOSTING REGRESSOR"
   ]
  },
  {
   "cell_type": "code",
   "execution_count": 125,
   "metadata": {},
   "outputs": [
    {
     "data": {
      "text/html": [
       "<style>#sk-container-id-7 {color: black;background-color: white;}#sk-container-id-7 pre{padding: 0;}#sk-container-id-7 div.sk-toggleable {background-color: white;}#sk-container-id-7 label.sk-toggleable__label {cursor: pointer;display: block;width: 100%;margin-bottom: 0;padding: 0.3em;box-sizing: border-box;text-align: center;}#sk-container-id-7 label.sk-toggleable__label-arrow:before {content: \"▸\";float: left;margin-right: 0.25em;color: #696969;}#sk-container-id-7 label.sk-toggleable__label-arrow:hover:before {color: black;}#sk-container-id-7 div.sk-estimator:hover label.sk-toggleable__label-arrow:before {color: black;}#sk-container-id-7 div.sk-toggleable__content {max-height: 0;max-width: 0;overflow: hidden;text-align: left;background-color: #f0f8ff;}#sk-container-id-7 div.sk-toggleable__content pre {margin: 0.2em;color: black;border-radius: 0.25em;background-color: #f0f8ff;}#sk-container-id-7 input.sk-toggleable__control:checked~div.sk-toggleable__content {max-height: 200px;max-width: 100%;overflow: auto;}#sk-container-id-7 input.sk-toggleable__control:checked~label.sk-toggleable__label-arrow:before {content: \"▾\";}#sk-container-id-7 div.sk-estimator input.sk-toggleable__control:checked~label.sk-toggleable__label {background-color: #d4ebff;}#sk-container-id-7 div.sk-label input.sk-toggleable__control:checked~label.sk-toggleable__label {background-color: #d4ebff;}#sk-container-id-7 input.sk-hidden--visually {border: 0;clip: rect(1px 1px 1px 1px);clip: rect(1px, 1px, 1px, 1px);height: 1px;margin: -1px;overflow: hidden;padding: 0;position: absolute;width: 1px;}#sk-container-id-7 div.sk-estimator {font-family: monospace;background-color: #f0f8ff;border: 1px dotted black;border-radius: 0.25em;box-sizing: border-box;margin-bottom: 0.5em;}#sk-container-id-7 div.sk-estimator:hover {background-color: #d4ebff;}#sk-container-id-7 div.sk-parallel-item::after {content: \"\";width: 100%;border-bottom: 1px solid gray;flex-grow: 1;}#sk-container-id-7 div.sk-label:hover label.sk-toggleable__label {background-color: #d4ebff;}#sk-container-id-7 div.sk-serial::before {content: \"\";position: absolute;border-left: 1px solid gray;box-sizing: border-box;top: 0;bottom: 0;left: 50%;z-index: 0;}#sk-container-id-7 div.sk-serial {display: flex;flex-direction: column;align-items: center;background-color: white;padding-right: 0.2em;padding-left: 0.2em;position: relative;}#sk-container-id-7 div.sk-item {position: relative;z-index: 1;}#sk-container-id-7 div.sk-parallel {display: flex;align-items: stretch;justify-content: center;background-color: white;position: relative;}#sk-container-id-7 div.sk-item::before, #sk-container-id-7 div.sk-parallel-item::before {content: \"\";position: absolute;border-left: 1px solid gray;box-sizing: border-box;top: 0;bottom: 0;left: 50%;z-index: -1;}#sk-container-id-7 div.sk-parallel-item {display: flex;flex-direction: column;z-index: 1;position: relative;background-color: white;}#sk-container-id-7 div.sk-parallel-item:first-child::after {align-self: flex-end;width: 50%;}#sk-container-id-7 div.sk-parallel-item:last-child::after {align-self: flex-start;width: 50%;}#sk-container-id-7 div.sk-parallel-item:only-child::after {width: 0;}#sk-container-id-7 div.sk-dashed-wrapped {border: 1px dashed gray;margin: 0 0.4em 0.5em 0.4em;box-sizing: border-box;padding-bottom: 0.4em;background-color: white;}#sk-container-id-7 div.sk-label label {font-family: monospace;font-weight: bold;display: inline-block;line-height: 1.2em;}#sk-container-id-7 div.sk-label-container {text-align: center;}#sk-container-id-7 div.sk-container {/* jupyter's `normalize.less` sets `[hidden] { display: none; }` but bootstrap.min.css set `[hidden] { display: none !important; }` so we also need the `!important` here to be able to override the default hidden behavior on the sphinx rendered scikit-learn.org. See: https://github.com/scikit-learn/scikit-learn/issues/21755 */display: inline-block !important;position: relative;}#sk-container-id-7 div.sk-text-repr-fallback {display: none;}</style><div id=\"sk-container-id-7\" class=\"sk-top-container\"><div class=\"sk-text-repr-fallback\"><pre>RandomForestRegressor()</pre><b>In a Jupyter environment, please rerun this cell to show the HTML representation or trust the notebook. <br />On GitHub, the HTML representation is unable to render, please try loading this page with nbviewer.org.</b></div><div class=\"sk-container\" hidden><div class=\"sk-item\"><div class=\"sk-estimator sk-toggleable\"><input class=\"sk-toggleable__control sk-hidden--visually\" id=\"sk-estimator-id-7\" type=\"checkbox\" checked><label for=\"sk-estimator-id-7\" class=\"sk-toggleable__label sk-toggleable__label-arrow\">RandomForestRegressor</label><div class=\"sk-toggleable__content\"><pre>RandomForestRegressor()</pre></div></div></div></div></div>"
      ],
      "text/plain": [
       "RandomForestRegressor()"
      ]
     },
     "execution_count": 125,
     "metadata": {},
     "output_type": "execute_result"
    }
   ],
   "source": [
    "model.fit(X_train, Y_train)"
   ]
  },
  {
   "attachments": {},
   "cell_type": "markdown",
   "metadata": {},
   "source": [
    "# TESTING & EVALUATION"
   ]
  },
  {
   "cell_type": "code",
   "execution_count": 126,
   "metadata": {},
   "outputs": [],
   "source": [
    "prediction = model.predict(X_test)"
   ]
  },
  {
   "cell_type": "code",
   "execution_count": 127,
   "metadata": {},
   "outputs": [
    {
     "data": {
      "image/png": "[encoded data removed]",
      "text/plain": [
       "<Figure size 640x480 with 1 Axes>"
      ]
     },
     "metadata": {},
     "output_type": "display_data"
    }
   ],
   "source": [
    "x_ax = range(len(Y_test))\n",
    "plt.scatter(x_ax, Y_test, s=5, color=\"blue\", label=\"original\")\n",
    "plt.plot(x_ax, prediction, lw=0.8, color=\"red\", label=\"predicted\")\n",
    "plt.legend()\n",
    "plt.show()"
   ]
  },
  {
   "cell_type": "code",
   "execution_count": 128,
   "metadata": {},
   "outputs": [],
   "source": [
    "contigency = [1, 2, 3]\n",
    "con = lambda : random.choice(contigency)"
   ]
  },
  {
   "attachments": {},
   "cell_type": "markdown",
   "metadata": {},
   "source": [
    "#### MEAN SQUARE ERROR"
   ]
  },
  {
   "cell_type": "code",
   "execution_count": 129,
   "metadata": {},
   "outputs": [],
   "source": [
    "mse = mean_squared_error(Y_test, prediction)"
   ]
  },
  {
   "cell_type": "code",
   "execution_count": 130,
   "metadata": {},
   "outputs": [
    {
     "data": {
      "text/plain": [
       "0.06601076317590691"
      ]
     },
     "execution_count": 130,
     "metadata": {},
     "output_type": "execute_result"
    }
   ],
   "source": [
    "mse"
   ]
  },
  {
   "attachments": {},
   "cell_type": "markdown",
   "metadata": {},
   "source": [
    "#### R2 SCORE (COEFFICIENT OF DETERMINATION)"
   ]
  },
  {
   "cell_type": "code",
   "execution_count": 131,
   "metadata": {},
   "outputs": [
    {
     "name": "stdout",
     "output_type": "stream",
     "text": [
      "Test R^2     : 0.851\n",
      "Test R^2     : 0.851\n",
      "Training R^2 : 0.979\n"
     ]
    }
   ],
   "source": [
    "print('Test R^2     : %.3f'%r2_score(Y_test, prediction))\n",
    "print('Test R^2     : %.3f'%model.score(X_test, Y_test))\n",
    "print('Training R^2 : %.3f'%model.score(X_train, Y_train))"
   ]
  },
  {
   "attachments": {},
   "cell_type": "markdown",
   "metadata": {},
   "source": [
    "#### MEAN ABSOLUTE ERROR (MAE)"
   ]
  },
  {
   "cell_type": "code",
   "execution_count": 132,
   "metadata": {},
   "outputs": [
    {
     "name": "stdout",
     "output_type": "stream",
     "text": [
      "Test MAE  : 0.111\n",
      "Train MAE : 0.041\n"
     ]
    }
   ],
   "source": [
    "print('Test MAE  : %.3f'%mean_absolute_error(Y_test, prediction))\n",
    "print('Train MAE : %.3f'%mean_absolute_error(Y_train, model.predict(X_train)))"
   ]
  },
  {
   "attachments": {},
   "cell_type": "markdown",
   "metadata": {},
   "source": [
    "#### MEAN SQUARED LOG ERROR"
   ]
  },
  {
   "cell_type": "code",
   "execution_count": 133,
   "metadata": {},
   "outputs": [
    {
     "name": "stdout",
     "output_type": "stream",
     "text": [
      "Mean Squared Log Error : 0.023\n"
     ]
    }
   ],
   "source": [
    "print(\"Mean Squared Log Error : {:.3f}\".format(mean_squared_log_error(Y_test, prediction)))"
   ]
  },
  {
   "attachments": {},
   "cell_type": "markdown",
   "metadata": {},
   "source": [
    "#### MEDIAN ABSOLUTE ERROR"
   ]
  },
  {
   "cell_type": "code",
   "execution_count": 134,
   "metadata": {},
   "outputs": [
    {
     "name": "stdout",
     "output_type": "stream",
     "text": [
      "Median Absolute Error : 0.0\n"
     ]
    }
   ],
   "source": [
    "print('Median Absolute Error : {}'.format(median_absolute_error(Y_test, prediction)))"
   ]
  },
  {
   "attachments": {},
   "cell_type": "markdown",
   "metadata": {},
   "source": [
    "#### MAXIMUM RESIDUAL ERROR"
   ]
  },
  {
   "cell_type": "code",
   "execution_count": 135,
   "metadata": {},
   "outputs": [
    {
     "name": "stdout",
     "output_type": "stream",
     "text": [
      "Maximum Residual Error : 1.480\n"
     ]
    }
   ],
   "source": [
    "print('Maximum Residual Error : {:.3f}'.format(max_error(Y_test, prediction)))"
   ]
  },
  {
   "attachments": {},
   "cell_type": "markdown",
   "metadata": {},
   "source": [
    "#### EXPLAINED VARIANCE ERROR"
   ]
  },
  {
   "cell_type": "code",
   "execution_count": 136,
   "metadata": {},
   "outputs": [
    {
     "name": "stdout",
     "output_type": "stream",
     "text": [
      "Explained Variance Error : 0.851\n"
     ]
    }
   ],
   "source": [
    "print('Explained Variance Error : {:.3f}'.format(explained_variance_score(Y_test, prediction)))"
   ]
  },
  {
   "cell_type": "code",
   "execution_count": 137,
   "metadata": {},
   "outputs": [],
   "source": [
    "rf_mse = mean_squared_error(Y_test, prediction)\n",
    "rf_r2 = model.score(X_test, Y_test)\n",
    "rf_mae = mean_absolute_error(Y_test, prediction)\n",
    "rf_msle = mean_squared_log_error(Y_test, prediction)\n",
    "rf_mad = median_absolute_error(Y_test, prediction)\n",
    "rf_mre = max_error(Y_test, prediction)\n",
    "rf_eve = explained_variance_score(Y_test, prediction)\n"
   ]
  },
  {
   "attachments": {},
   "cell_type": "markdown",
   "metadata": {},
   "source": [
    "# LINEAR REGRESSOR"
   ]
  },
  {
   "attachments": {},
   "cell_type": "markdown",
   "metadata": {},
   "source": [
    "#### MODEL SELECTION"
   ]
  },
  {
   "cell_type": "code",
   "execution_count": 138,
   "metadata": {},
   "outputs": [],
   "source": [
    "model = LinearRegression()"
   ]
  },
  {
   "attachments": {},
   "cell_type": "markdown",
   "metadata": {},
   "source": [
    "#### MODEL TRAIN - GRADIENT BOOSTING REGRESSOR"
   ]
  },
  {
   "cell_type": "code",
   "execution_count": 139,
   "metadata": {},
   "outputs": [
    {
     "data": {
      "text/html": [
       "<style>#sk-container-id-8 {color: black;background-color: white;}#sk-container-id-8 pre{padding: 0;}#sk-container-id-8 div.sk-toggleable {background-color: white;}#sk-container-id-8 label.sk-toggleable__label {cursor: pointer;display: block;width: 100%;margin-bottom: 0;padding: 0.3em;box-sizing: border-box;text-align: center;}#sk-container-id-8 label.sk-toggleable__label-arrow:before {content: \"▸\";float: left;margin-right: 0.25em;color: #696969;}#sk-container-id-8 label.sk-toggleable__label-arrow:hover:before {color: black;}#sk-container-id-8 div.sk-estimator:hover label.sk-toggleable__label-arrow:before {color: black;}#sk-container-id-8 div.sk-toggleable__content {max-height: 0;max-width: 0;overflow: hidden;text-align: left;background-color: #f0f8ff;}#sk-container-id-8 div.sk-toggleable__content pre {margin: 0.2em;color: black;border-radius: 0.25em;background-color: #f0f8ff;}#sk-container-id-8 input.sk-toggleable__control:checked~div.sk-toggleable__content {max-height: 200px;max-width: 100%;overflow: auto;}#sk-container-id-8 input.sk-toggleable__control:checked~label.sk-toggleable__label-arrow:before {content: \"▾\";}#sk-container-id-8 div.sk-estimator input.sk-toggleable__control:checked~label.sk-toggleable__label {background-color: #d4ebff;}#sk-container-id-8 div.sk-label input.sk-toggleable__control:checked~label.sk-toggleable__label {background-color: #d4ebff;}#sk-container-id-8 input.sk-hidden--visually {border: 0;clip: rect(1px 1px 1px 1px);clip: rect(1px, 1px, 1px, 1px);height: 1px;margin: -1px;overflow: hidden;padding: 0;position: absolute;width: 1px;}#sk-container-id-8 div.sk-estimator {font-family: monospace;background-color: #f0f8ff;border: 1px dotted black;border-radius: 0.25em;box-sizing: border-box;margin-bottom: 0.5em;}#sk-container-id-8 div.sk-estimator:hover {background-color: #d4ebff;}#sk-container-id-8 div.sk-parallel-item::after {content: \"\";width: 100%;border-bottom: 1px solid gray;flex-grow: 1;}#sk-container-id-8 div.sk-label:hover label.sk-toggleable__label {background-color: #d4ebff;}#sk-container-id-8 div.sk-serial::before {content: \"\";position: absolute;border-left: 1px solid gray;box-sizing: border-box;top: 0;bottom: 0;left: 50%;z-index: 0;}#sk-container-id-8 div.sk-serial {display: flex;flex-direction: column;align-items: center;background-color: white;padding-right: 0.2em;padding-left: 0.2em;position: relative;}#sk-container-id-8 div.sk-item {position: relative;z-index: 1;}#sk-container-id-8 div.sk-parallel {display: flex;align-items: stretch;justify-content: center;background-color: white;position: relative;}#sk-container-id-8 div.sk-item::before, #sk-container-id-8 div.sk-parallel-item::before {content: \"\";position: absolute;border-left: 1px solid gray;box-sizing: border-box;top: 0;bottom: 0;left: 50%;z-index: -1;}#sk-container-id-8 div.sk-parallel-item {display: flex;flex-direction: column;z-index: 1;position: relative;background-color: white;}#sk-container-id-8 div.sk-parallel-item:first-child::after {align-self: flex-end;width: 50%;}#sk-container-id-8 div.sk-parallel-item:last-child::after {align-self: flex-start;width: 50%;}#sk-container-id-8 div.sk-parallel-item:only-child::after {width: 0;}#sk-container-id-8 div.sk-dashed-wrapped {border: 1px dashed gray;margin: 0 0.4em 0.5em 0.4em;box-sizing: border-box;padding-bottom: 0.4em;background-color: white;}#sk-container-id-8 div.sk-label label {font-family: monospace;font-weight: bold;display: inline-block;line-height: 1.2em;}#sk-container-id-8 div.sk-label-container {text-align: center;}#sk-container-id-8 div.sk-container {/* jupyter's `normalize.less` sets `[hidden] { display: none; }` but bootstrap.min.css set `[hidden] { display: none !important; }` so we also need the `!important` here to be able to override the default hidden behavior on the sphinx rendered scikit-learn.org. See: https://github.com/scikit-learn/scikit-learn/issues/21755 */display: inline-block !important;position: relative;}#sk-container-id-8 div.sk-text-repr-fallback {display: none;}</style><div id=\"sk-container-id-8\" class=\"sk-top-container\"><div class=\"sk-text-repr-fallback\"><pre>LinearRegression()</pre><b>In a Jupyter environment, please rerun this cell to show the HTML representation or trust the notebook. <br />On GitHub, the HTML representation is unable to render, please try loading this page with nbviewer.org.</b></div><div class=\"sk-container\" hidden><div class=\"sk-item\"><div class=\"sk-estimator sk-toggleable\"><input class=\"sk-toggleable__control sk-hidden--visually\" id=\"sk-estimator-id-8\" type=\"checkbox\" checked><label for=\"sk-estimator-id-8\" class=\"sk-toggleable__label sk-toggleable__label-arrow\">LinearRegression</label><div class=\"sk-toggleable__content\"><pre>LinearRegression()</pre></div></div></div></div></div>"
      ],
      "text/plain": [
       "LinearRegression()"
      ]
     },
     "execution_count": 139,
     "metadata": {},
     "output_type": "execute_result"
    }
   ],
   "source": [
    "model.fit(X_train, Y_train)"
   ]
  },
  {
   "attachments": {},
   "cell_type": "markdown",
   "metadata": {},
   "source": [
    "# TESTING & EVALUATION"
   ]
  },
  {
   "cell_type": "code",
   "execution_count": 140,
   "metadata": {},
   "outputs": [],
   "source": [
    "prediction = model.predict(X_test)"
   ]
  },
  {
   "cell_type": "code",
   "execution_count": 141,
   "metadata": {},
   "outputs": [
    {
     "data": {
      "image/png": "[encoded data removed]",
      "text/plain": [
       "<Figure size 640x480 with 1 Axes>"
      ]
     },
     "metadata": {},
     "output_type": "display_data"
    }
   ],
   "source": [
    "x_ax = range(len(Y_test))\n",
    "plt.scatter(x_ax, Y_test, s=5, color=\"blue\", label=\"original\")\n",
    "plt.plot(x_ax, prediction, lw=0.8, color=\"red\", label=\"predicted\")\n",
    "plt.legend()\n",
    "plt.show()"
   ]
  },
  {
   "cell_type": "code",
   "execution_count": 142,
   "metadata": {},
   "outputs": [],
   "source": [
    "contigency = [1, 2, 3]\n",
    "con = lambda : random.choice(contigency)"
   ]
  },
  {
   "attachments": {},
   "cell_type": "markdown",
   "metadata": {},
   "source": [
    "#### MEAN SQUARE ERROR"
   ]
  },
  {
   "cell_type": "code",
   "execution_count": 143,
   "metadata": {},
   "outputs": [],
   "source": [
    "mse = mean_squared_error(Y_test, prediction)"
   ]
  },
  {
   "cell_type": "code",
   "execution_count": 144,
   "metadata": {},
   "outputs": [
    {
     "data": {
      "text/plain": [
       "0.34397841609314195"
      ]
     },
     "execution_count": 144,
     "metadata": {},
     "output_type": "execute_result"
    }
   ],
   "source": [
    "mse"
   ]
  },
  {
   "attachments": {},
   "cell_type": "markdown",
   "metadata": {},
   "source": [
    "#### R2 SCORE (COEFFICIENT OF DETERMINATION)"
   ]
  },
  {
   "cell_type": "code",
   "execution_count": 145,
   "metadata": {},
   "outputs": [
    {
     "name": "stdout",
     "output_type": "stream",
     "text": [
      "Test R^2     : 0.225\n",
      "Test R^2     : 0.225\n",
      "Training R^2 : 0.221\n"
     ]
    }
   ],
   "source": [
    "print('Test R^2     : %.3f'%r2_score(Y_test, prediction))\n",
    "print('Test R^2     : %.3f'%model.score(X_test, Y_test))\n",
    "print('Training R^2 : %.3f'%model.score(X_train, Y_train))"
   ]
  },
  {
   "attachments": {},
   "cell_type": "markdown",
   "metadata": {},
   "source": [
    "#### MEAN ABSOLUTE ERROR (MAE)"
   ]
  },
  {
   "cell_type": "code",
   "execution_count": 146,
   "metadata": {},
   "outputs": [
    {
     "name": "stdout",
     "output_type": "stream",
     "text": [
      "Test MAE  : 0.483\n",
      "Train MAE : 0.484\n"
     ]
    }
   ],
   "source": [
    "print('Test MAE  : %.3f'%mean_absolute_error(Y_test, prediction))\n",
    "print('Train MAE : %.3f'%mean_absolute_error(Y_train, model.predict(X_train)))"
   ]
  },
  {
   "attachments": {},
   "cell_type": "markdown",
   "metadata": {},
   "source": [
    "#### MEAN SQUARED LOG ERROR"
   ]
  },
  {
   "cell_type": "code",
   "execution_count": 147,
   "metadata": {},
   "outputs": [
    {
     "name": "stdout",
     "output_type": "stream",
     "text": [
      "Mean Squared Log Error : 0.099\n"
     ]
    }
   ],
   "source": [
    "print(\"Mean Squared Log Error : {:.3f}\".format(mean_squared_log_error(Y_test, prediction)))"
   ]
  },
  {
   "attachments": {},
   "cell_type": "markdown",
   "metadata": {},
   "source": [
    "#### MEDIAN ABSOLUTE ERROR"
   ]
  },
  {
   "cell_type": "code",
   "execution_count": 148,
   "metadata": {},
   "outputs": [
    {
     "name": "stdout",
     "output_type": "stream",
     "text": [
      "Median Absolute Error : 0.4345182510184745\n"
     ]
    }
   ],
   "source": [
    "print('Median Absolute Error : {}'.format(median_absolute_error(Y_test, prediction)))"
   ]
  },
  {
   "attachments": {},
   "cell_type": "markdown",
   "metadata": {},
   "source": [
    "#### MAXIMUM RESIDUAL ERROR"
   ]
  },
  {
   "cell_type": "code",
   "execution_count": 149,
   "metadata": {},
   "outputs": [
    {
     "name": "stdout",
     "output_type": "stream",
     "text": [
      "Maximum Residual Error : 1.467\n"
     ]
    }
   ],
   "source": [
    "print('Maximum Residual Error : {:.3f}'.format(max_error(Y_test, prediction)))"
   ]
  },
  {
   "attachments": {},
   "cell_type": "markdown",
   "metadata": {},
   "source": [
    "#### EXPLAINED VARIANCE ERROR"
   ]
  },
  {
   "cell_type": "code",
   "execution_count": 150,
   "metadata": {},
   "outputs": [
    {
     "name": "stdout",
     "output_type": "stream",
     "text": [
      "Explained Variance Error : 0.225\n"
     ]
    }
   ],
   "source": [
    "print('Explained Variance Error : {:.3f}'.format(explained_variance_score(Y_test, prediction)))"
   ]
  },
  {
   "cell_type": "code",
   "execution_count": 151,
   "metadata": {},
   "outputs": [],
   "source": [
    "ln_mse = mean_squared_error(Y_test, prediction)\n",
    "ln_r2 = model.score(X_test, Y_test)\n",
    "ln_mae = mean_absolute_error(Y_test, prediction)\n",
    "ln_msle = mean_squared_log_error(Y_test, prediction)\n",
    "ln_mad = median_absolute_error(Y_test, prediction)\n",
    "ln_mre = max_error(Y_test, prediction)\n",
    "ln_eve = explained_variance_score(Y_test, prediction)\n"
   ]
  },
  {
   "attachments": {},
   "cell_type": "markdown",
   "metadata": {},
   "source": [
    "# GRADIENT BOOSTING REGRESSOR"
   ]
  },
  {
   "attachments": {},
   "cell_type": "markdown",
   "metadata": {},
   "source": [
    "#### MODEL SELECTION"
   ]
  },
  {
   "cell_type": "code",
   "execution_count": 152,
   "metadata": {},
   "outputs": [],
   "source": [
    "model = GradientBoostingRegressor()"
   ]
  },
  {
   "attachments": {},
   "cell_type": "markdown",
   "metadata": {},
   "source": [
    "#### MODEL TRAIN - GRADIENT BOOSTING REGRESSOR"
   ]
  },
  {
   "cell_type": "code",
   "execution_count": 153,
   "metadata": {},
   "outputs": [
    {
     "data": {
      "text/html": [
       "<style>#sk-container-id-9 {color: black;background-color: white;}#sk-container-id-9 pre{padding: 0;}#sk-container-id-9 div.sk-toggleable {background-color: white;}#sk-container-id-9 label.sk-toggleable__label {cursor: pointer;display: block;width: 100%;margin-bottom: 0;padding: 0.3em;box-sizing: border-box;text-align: center;}#sk-container-id-9 label.sk-toggleable__label-arrow:before {content: \"▸\";float: left;margin-right: 0.25em;color: #696969;}#sk-container-id-9 label.sk-toggleable__label-arrow:hover:before {color: black;}#sk-container-id-9 div.sk-estimator:hover label.sk-toggleable__label-arrow:before {color: black;}#sk-container-id-9 div.sk-toggleable__content {max-height: 0;max-width: 0;overflow: hidden;text-align: left;background-color: #f0f8ff;}#sk-container-id-9 div.sk-toggleable__content pre {margin: 0.2em;color: black;border-radius: 0.25em;background-color: #f0f8ff;}#sk-container-id-9 input.sk-toggleable__control:checked~div.sk-toggleable__content {max-height: 200px;max-width: 100%;overflow: auto;}#sk-container-id-9 input.sk-toggleable__control:checked~label.sk-toggleable__label-arrow:before {content: \"▾\";}#sk-container-id-9 div.sk-estimator input.sk-toggleable__control:checked~label.sk-toggleable__label {background-color: #d4ebff;}#sk-container-id-9 div.sk-label input.sk-toggleable__control:checked~label.sk-toggleable__label {background-color: #d4ebff;}#sk-container-id-9 input.sk-hidden--visually {border: 0;clip: rect(1px 1px 1px 1px);clip: rect(1px, 1px, 1px, 1px);height: 1px;margin: -1px;overflow: hidden;padding: 0;position: absolute;width: 1px;}#sk-container-id-9 div.sk-estimator {font-family: monospace;background-color: #f0f8ff;border: 1px dotted black;border-radius: 0.25em;box-sizing: border-box;margin-bottom: 0.5em;}#sk-container-id-9 div.sk-estimator:hover {background-color: #d4ebff;}#sk-container-id-9 div.sk-parallel-item::after {content: \"\";width: 100%;border-bottom: 1px solid gray;flex-grow: 1;}#sk-container-id-9 div.sk-label:hover label.sk-toggleable__label {background-color: #d4ebff;}#sk-container-id-9 div.sk-serial::before {content: \"\";position: absolute;border-left: 1px solid gray;box-sizing: border-box;top: 0;bottom: 0;left: 50%;z-index: 0;}#sk-container-id-9 div.sk-serial {display: flex;flex-direction: column;align-items: center;background-color: white;padding-right: 0.2em;padding-left: 0.2em;position: relative;}#sk-container-id-9 div.sk-item {position: relative;z-index: 1;}#sk-container-id-9 div.sk-parallel {display: flex;align-items: stretch;justify-content: center;background-color: white;position: relative;}#sk-container-id-9 div.sk-item::before, #sk-container-id-9 div.sk-parallel-item::before {content: \"\";position: absolute;border-left: 1px solid gray;box-sizing: border-box;top: 0;bottom: 0;left: 50%;z-index: -1;}#sk-container-id-9 div.sk-parallel-item {display: flex;flex-direction: column;z-index: 1;position: relative;background-color: white;}#sk-container-id-9 div.sk-parallel-item:first-child::after {align-self: flex-end;width: 50%;}#sk-container-id-9 div.sk-parallel-item:last-child::after {align-self: flex-start;width: 50%;}#sk-container-id-9 div.sk-parallel-item:only-child::after {width: 0;}#sk-container-id-9 div.sk-dashed-wrapped {border: 1px dashed gray;margin: 0 0.4em 0.5em 0.4em;box-sizing: border-box;padding-bottom: 0.4em;background-color: white;}#sk-container-id-9 div.sk-label label {font-family: monospace;font-weight: bold;display: inline-block;line-height: 1.2em;}#sk-container-id-9 div.sk-label-container {text-align: center;}#sk-container-id-9 div.sk-container {/* jupyter's `normalize.less` sets `[hidden] { display: none; }` but bootstrap.min.css set `[hidden] { display: none !important; }` so we also need the `!important` here to be able to override the default hidden behavior on the sphinx rendered scikit-learn.org. See: https://github.com/scikit-learn/scikit-learn/issues/21755 */display: inline-block !important;position: relative;}#sk-container-id-9 div.sk-text-repr-fallback {display: none;}</style><div id=\"sk-container-id-9\" class=\"sk-top-container\"><div class=\"sk-text-repr-fallback\"><pre>GradientBoostingRegressor()</pre><b>In a Jupyter environment, please rerun this cell to show the HTML representation or trust the notebook. <br />On GitHub, the HTML representation is unable to render, please try loading this page with nbviewer.org.</b></div><div class=\"sk-container\" hidden><div class=\"sk-item\"><div class=\"sk-estimator sk-toggleable\"><input class=\"sk-toggleable__control sk-hidden--visually\" id=\"sk-estimator-id-9\" type=\"checkbox\" checked><label for=\"sk-estimator-id-9\" class=\"sk-toggleable__label sk-toggleable__label-arrow\">GradientBoostingRegressor</label><div class=\"sk-toggleable__content\"><pre>GradientBoostingRegressor()</pre></div></div></div></div></div>"
      ],
      "text/plain": [
       "GradientBoostingRegressor()"
      ]
     },
     "execution_count": 153,
     "metadata": {},
     "output_type": "execute_result"
    }
   ],
   "source": [
    "model.fit(X_train, Y_train)"
   ]
  },
  {
   "attachments": {},
   "cell_type": "markdown",
   "metadata": {},
   "source": [
    "#### TRAINING AND TEST DEVIANCE"
   ]
  },
  {
   "cell_type": "code",
   "execution_count": 154,
   "metadata": {},
   "outputs": [
    {
     "name": "stderr",
     "output_type": "stream",
     "text": [
      "/home/rafi/.local/lib/python3.10/site-packages/sklearn/utils/deprecation.py:101: FutureWarning: Attribute `loss_` was deprecated in version 1.1 and will be removed in 1.3.\n",
      "  warnings.warn(msg, category=FutureWarning)\n"
     ]
    },
    {
     "data": {
      "image/png": "[encoded data removed]",
      "text/plain": [
       "<Figure size 800x800 with 1 Axes>"
      ]
     },
     "metadata": {},
     "output_type": "display_data"
    }
   ],
   "source": [
    "model_params = {'n_estimators': 100,\n",
    "          'max_depth': 3,\n",
    "          'min_samples_split': 5,\n",
    "          'learning_rate': 0.01,\n",
    "          'loss': 'ls'}\n",
    "test_score = np.zeros((model_params['n_estimators'],), dtype=np.float64)\n",
    "for i, y_pred in enumerate(model.staged_predict(X_test)):\n",
    "    test_score[i] = model.loss_(Y_test, y_pred)\n",
    " \n",
    "fig = plt.figure(figsize=(8, 8))\n",
    "plt.subplot(1, 1, 1)\n",
    "plt.title('Deviance')\n",
    "plt.plot(np.arange(model_params['n_estimators']) + 1, model.train_score_, 'b-',\n",
    "         label='Training Set Deviance')\n",
    "plt.plot(np.arange(model_params['n_estimators']) + 1, test_score, 'r-',\n",
    "         label='Test Set Deviance')\n",
    "plt.legend(loc='upper right')\n",
    "plt.xlabel('Boosting Iterations')\n",
    "plt.ylabel('Deviance')\n",
    "fig.tight_layout()\n",
    "plt.show()"
   ]
  },
  {
   "attachments": {},
   "cell_type": "markdown",
   "metadata": {},
   "source": [
    "# TESTING & EVALUATION"
   ]
  },
  {
   "cell_type": "code",
   "execution_count": 155,
   "metadata": {},
   "outputs": [],
   "source": [
    "prediction = model.predict(X_test)"
   ]
  },
  {
   "cell_type": "code",
   "execution_count": 156,
   "metadata": {},
   "outputs": [
    {
     "data": {
      "image/png": "[encoded data removed]",
      "text/plain": [
       "<Figure size 640x480 with 1 Axes>"
      ]
     },
     "metadata": {},
     "output_type": "display_data"
    }
   ],
   "source": [
    "x_ax = range(len(Y_test))\n",
    "plt.scatter(x_ax, Y_test, s=5, color=\"blue\", label=\"original\")\n",
    "plt.plot(x_ax, prediction, lw=0.8, color=\"red\", label=\"predicted\")\n",
    "plt.legend()\n",
    "plt.show()"
   ]
  },
  {
   "cell_type": "code",
   "execution_count": 157,
   "metadata": {},
   "outputs": [],
   "source": [
    "contigency = [1, 2, 3]\n",
    "con = lambda : random.choice(contigency)"
   ]
  },
  {
   "attachments": {},
   "cell_type": "markdown",
   "metadata": {},
   "source": [
    "#### MEAN SQUARE ERROR"
   ]
  },
  {
   "cell_type": "code",
   "execution_count": 158,
   "metadata": {},
   "outputs": [],
   "source": [
    "mse = mean_squared_error(Y_test, prediction)"
   ]
  },
  {
   "cell_type": "code",
   "execution_count": 159,
   "metadata": {},
   "outputs": [
    {
     "data": {
      "text/plain": [
       "0.12739415068351592"
      ]
     },
     "execution_count": 159,
     "metadata": {},
     "output_type": "execute_result"
    }
   ],
   "source": [
    "mse"
   ]
  },
  {
   "attachments": {},
   "cell_type": "markdown",
   "metadata": {},
   "source": [
    "#### R2 SCORE (COEFFICIENT OF DETERMINATION)"
   ]
  },
  {
   "cell_type": "code",
   "execution_count": 160,
   "metadata": {},
   "outputs": [
    {
     "name": "stdout",
     "output_type": "stream",
     "text": [
      "Test R^2     : 0.713\n",
      "Test R^2     : 0.713\n",
      "Training R^2 : 0.716\n"
     ]
    }
   ],
   "source": [
    "print('Test R^2     : %.3f'%r2_score(Y_test, prediction))\n",
    "print('Test R^2     : %.3f'%model.score(X_test, Y_test))\n",
    "print('Training R^2 : %.3f'%model.score(X_train, Y_train))"
   ]
  },
  {
   "attachments": {},
   "cell_type": "markdown",
   "metadata": {},
   "source": [
    "#### MEAN ABSOLUTE ERROR (MAE)"
   ]
  },
  {
   "cell_type": "code",
   "execution_count": 161,
   "metadata": {},
   "outputs": [
    {
     "name": "stdout",
     "output_type": "stream",
     "text": [
      "Test MAE  : 0.264\n",
      "Train MAE : 0.264\n"
     ]
    }
   ],
   "source": [
    "print('Test MAE  : %.3f'%mean_absolute_error(Y_test, prediction))\n",
    "print('Train MAE : %.3f'%mean_absolute_error(Y_train, model.predict(X_train)))"
   ]
  },
  {
   "attachments": {},
   "cell_type": "markdown",
   "metadata": {},
   "source": [
    "#### MEAN SQUARED LOG ERROR"
   ]
  },
  {
   "cell_type": "code",
   "execution_count": 162,
   "metadata": {},
   "outputs": [
    {
     "name": "stdout",
     "output_type": "stream",
     "text": [
      "Mean Squared Log Error : 0.047\n"
     ]
    }
   ],
   "source": [
    "print(\"Mean Squared Log Error : {:.3f}\".format(mean_squared_log_error(Y_test, prediction)))"
   ]
  },
  {
   "attachments": {},
   "cell_type": "markdown",
   "metadata": {},
   "source": [
    "#### MEDIAN ABSOLUTE ERROR"
   ]
  },
  {
   "cell_type": "code",
   "execution_count": 163,
   "metadata": {},
   "outputs": [
    {
     "name": "stdout",
     "output_type": "stream",
     "text": [
      "Median Absolute Error : 0.19372879053232805\n"
     ]
    }
   ],
   "source": [
    "print('Median Absolute Error : {}'.format(median_absolute_error(Y_test, prediction)))"
   ]
  },
  {
   "attachments": {},
   "cell_type": "markdown",
   "metadata": {},
   "source": [
    "#### MAXIMUM RESIDUAL ERROR"
   ]
  },
  {
   "cell_type": "code",
   "execution_count": 164,
   "metadata": {},
   "outputs": [
    {
     "name": "stdout",
     "output_type": "stream",
     "text": [
      "Maximum Residual Error : 1.045\n"
     ]
    }
   ],
   "source": [
    "print('Maximum Residual Error : {:.3f}'.format(max_error(Y_test, prediction)))"
   ]
  },
  {
   "attachments": {},
   "cell_type": "markdown",
   "metadata": {},
   "source": [
    "#### EXPLAINED VARIANCE ERROR"
   ]
  },
  {
   "cell_type": "code",
   "execution_count": 165,
   "metadata": {},
   "outputs": [
    {
     "name": "stdout",
     "output_type": "stream",
     "text": [
      "Explained Variance Error : 0.713\n"
     ]
    }
   ],
   "source": [
    "print('Explained Variance Error : {:.3f}'.format(explained_variance_score(Y_test, prediction)))"
   ]
  },
  {
   "attachments": {},
   "cell_type": "markdown",
   "metadata": {},
   "source": [
    "#### FEATURE IMPORTANCE (MDI) & PERMUTATION IMPORTANCE"
   ]
  },
  {
   "cell_type": "code",
   "execution_count": 166,
   "metadata": {},
   "outputs": [
    {
     "data": {
      "image/png": "[encoded data removed]",
      "text/plain": [
       "<Figure size 1200x600 with 2 Axes>"
      ]
     },
     "metadata": {},
     "output_type": "display_data"
    }
   ],
   "source": [
    "feature_importance = model.feature_importances_\n",
    "sorted_idx = np.argsort(feature_importance)\n",
    "pos = np.arange(sorted_idx.shape[0]) + 0.5\n",
    "fig = plt.figure(figsize=(12, 6))\n",
    "plt.subplot(1, 2, 1)\n",
    "plt.barh(pos, feature_importance[sorted_idx], align=\"center\")\n",
    "plt.yticks(pos, np.array(colN)[sorted_idx])\n",
    "plt.title(\"Feature Importance (MDI)\")\n",
    "\n",
    "feature_importance = model.feature_importances_\n",
    "sorted_idx = np.argsort(feature_importance)\n",
    "plt.subplot(1, 2, 2)\n",
    "plt.pie(feature_importance[sorted_idx], labels = np.array(colN)[sorted_idx])\n",
    "plt.title(\"Feature Importance (MDI)\")\n",
    "fig.tight_layout()\n",
    "plt.show()"
   ]
  },
  {
   "cell_type": "code",
   "execution_count": 167,
   "metadata": {},
   "outputs": [
    {
     "data": {
      "image/png": "[encoded data removed]",
      "text/plain": [
       "<Figure size 1200x600 with 2 Axes>"
      ]
     },
     "metadata": {},
     "output_type": "display_data"
    }
   ],
   "source": [
    "result = permutation_importance(\n",
    "    model, X_test, Y_test, n_repeats=10, random_state=42, n_jobs=2\n",
    ")\n",
    "sorted_idx = result.importances_mean.argsort()\n",
    "pos = np.arange(sorted_idx.shape[0]) + 0.5\n",
    "fig = plt.figure(figsize=(12, 6))\n",
    "plt.subplot(1, 2, 1)\n",
    "plt.barh(pos, feature_importance[sorted_idx], align=\"center\")\n",
    "plt.yticks(pos, np.array(colN)[sorted_idx])\n",
    "plt.title(\"Permutation Importance (MDI)\")\n",
    "\n",
    "result = permutation_importance(\n",
    "    model, X_test, Y_test, n_repeats=10, random_state=42, n_jobs=2\n",
    ")\n",
    "sorted_idx = result.importances_mean.argsort()\n",
    "plt.subplot(1, 2, 2)\n",
    "plt.pie(feature_importance[sorted_idx], labels = np.array(colN)[sorted_idx])\n",
    "plt.title(\"Permutation Importance (MDI)\")\n",
    "fig.tight_layout()\n",
    "plt.show()\n"
   ]
  },
  {
   "cell_type": "code",
   "execution_count": 168,
   "metadata": {},
   "outputs": [],
   "source": [
    "gb_mse = mean_squared_error(Y_test, prediction)\n",
    "gb_r2 = model.score(X_test, Y_test)\n",
    "gb_mae = mean_absolute_error(Y_test, prediction)\n",
    "gb_msle = mean_squared_log_error(Y_test, prediction)\n",
    "gb_mad = median_absolute_error(Y_test, prediction)\n",
    "gb_mre = max_error(Y_test, prediction)\n",
    "gb_eve = explained_variance_score(Y_test, prediction)\n"
   ]
  },
  {
   "attachments": {},
   "cell_type": "markdown",
   "metadata": {},
   "source": [
    "# HIST GRADIENT BOOSTING REGRESSOR"
   ]
  },
  {
   "attachments": {},
   "cell_type": "markdown",
   "metadata": {},
   "source": [
    "#### MODEL SELECTION"
   ]
  },
  {
   "cell_type": "code",
   "execution_count": 169,
   "metadata": {},
   "outputs": [],
   "source": [
    "model = HistGradientBoostingRegressor()"
   ]
  },
  {
   "attachments": {},
   "cell_type": "markdown",
   "metadata": {},
   "source": [
    "#### MODEL TRAIN - GRADIENT BOOSTING REGRESSOR"
   ]
  },
  {
   "cell_type": "code",
   "execution_count": 170,
   "metadata": {},
   "outputs": [
    {
     "data": {
      "text/html": [
       "<style>#sk-container-id-10 {color: black;background-color: white;}#sk-container-id-10 pre{padding: 0;}#sk-container-id-10 div.sk-toggleable {background-color: white;}#sk-container-id-10 label.sk-toggleable__label {cursor: pointer;display: block;width: 100%;margin-bottom: 0;padding: 0.3em;box-sizing: border-box;text-align: center;}#sk-container-id-10 label.sk-toggleable__label-arrow:before {content: \"▸\";float: left;margin-right: 0.25em;color: #696969;}#sk-container-id-10 label.sk-toggleable__label-arrow:hover:before {color: black;}#sk-container-id-10 div.sk-estimator:hover label.sk-toggleable__label-arrow:before {color: black;}#sk-container-id-10 div.sk-toggleable__content {max-height: 0;max-width: 0;overflow: hidden;text-align: left;background-color: #f0f8ff;}#sk-container-id-10 div.sk-toggleable__content pre {margin: 0.2em;color: black;border-radius: 0.25em;background-color: #f0f8ff;}#sk-container-id-10 input.sk-toggleable__control:checked~div.sk-toggleable__content {max-height: 200px;max-width: 100%;overflow: auto;}#sk-container-id-10 input.sk-toggleable__control:checked~label.sk-toggleable__label-arrow:before {content: \"▾\";}#sk-container-id-10 div.sk-estimator input.sk-toggleable__control:checked~label.sk-toggleable__label {background-color: #d4ebff;}#sk-container-id-10 div.sk-label input.sk-toggleable__control:checked~label.sk-toggleable__label {background-color: #d4ebff;}#sk-container-id-10 input.sk-hidden--visually {border: 0;clip: rect(1px 1px 1px 1px);clip: rect(1px, 1px, 1px, 1px);height: 1px;margin: -1px;overflow: hidden;padding: 0;position: absolute;width: 1px;}#sk-container-id-10 div.sk-estimator {font-family: monospace;background-color: #f0f8ff;border: 1px dotted black;border-radius: 0.25em;box-sizing: border-box;margin-bottom: 0.5em;}#sk-container-id-10 div.sk-estimator:hover {background-color: #d4ebff;}#sk-container-id-10 div.sk-parallel-item::after {content: \"\";width: 100%;border-bottom: 1px solid gray;flex-grow: 1;}#sk-container-id-10 div.sk-label:hover label.sk-toggleable__label {background-color: #d4ebff;}#sk-container-id-10 div.sk-serial::before {content: \"\";position: absolute;border-left: 1px solid gray;box-sizing: border-box;top: 0;bottom: 0;left: 50%;z-index: 0;}#sk-container-id-10 div.sk-serial {display: flex;flex-direction: column;align-items: center;background-color: white;padding-right: 0.2em;padding-left: 0.2em;position: relative;}#sk-container-id-10 div.sk-item {position: relative;z-index: 1;}#sk-container-id-10 div.sk-parallel {display: flex;align-items: stretch;justify-content: center;background-color: white;position: relative;}#sk-container-id-10 div.sk-item::before, #sk-container-id-10 div.sk-parallel-item::before {content: \"\";position: absolute;border-left: 1px solid gray;box-sizing: border-box;top: 0;bottom: 0;left: 50%;z-index: -1;}#sk-container-id-10 div.sk-parallel-item {display: flex;flex-direction: column;z-index: 1;position: relative;background-color: white;}#sk-container-id-10 div.sk-parallel-item:first-child::after {align-self: flex-end;width: 50%;}#sk-container-id-10 div.sk-parallel-item:last-child::after {align-self: flex-start;width: 50%;}#sk-container-id-10 div.sk-parallel-item:only-child::after {width: 0;}#sk-container-id-10 div.sk-dashed-wrapped {border: 1px dashed gray;margin: 0 0.4em 0.5em 0.4em;box-sizing: border-box;padding-bottom: 0.4em;background-color: white;}#sk-container-id-10 div.sk-label label {font-family: monospace;font-weight: bold;display: inline-block;line-height: 1.2em;}#sk-container-id-10 div.sk-label-container {text-align: center;}#sk-container-id-10 div.sk-container {/* jupyter's `normalize.less` sets `[hidden] { display: none; }` but bootstrap.min.css set `[hidden] { display: none !important; }` so we also need the `!important` here to be able to override the default hidden behavior on the sphinx rendered scikit-learn.org. See: https://github.com/scikit-learn/scikit-learn/issues/21755 */display: inline-block !important;position: relative;}#sk-container-id-10 div.sk-text-repr-fallback {display: none;}</style><div id=\"sk-container-id-10\" class=\"sk-top-container\"><div class=\"sk-text-repr-fallback\"><pre>HistGradientBoostingRegressor()</pre><b>In a Jupyter environment, please rerun this cell to show the HTML representation or trust the notebook. <br />On GitHub, the HTML representation is unable to render, please try loading this page with nbviewer.org.</b></div><div class=\"sk-container\" hidden><div class=\"sk-item\"><div class=\"sk-estimator sk-toggleable\"><input class=\"sk-toggleable__control sk-hidden--visually\" id=\"sk-estimator-id-10\" type=\"checkbox\" checked><label for=\"sk-estimator-id-10\" class=\"sk-toggleable__label sk-toggleable__label-arrow\">HistGradientBoostingRegressor</label><div class=\"sk-toggleable__content\"><pre>HistGradientBoostingRegressor()</pre></div></div></div></div></div>"
      ],
      "text/plain": [
       "HistGradientBoostingRegressor()"
      ]
     },
     "execution_count": 170,
     "metadata": {},
     "output_type": "execute_result"
    }
   ],
   "source": [
    "model.fit(X_train, Y_train)"
   ]
  },
  {
   "attachments": {},
   "cell_type": "markdown",
   "metadata": {},
   "source": [
    "# TESTING & EVALUATION"
   ]
  },
  {
   "cell_type": "code",
   "execution_count": 171,
   "metadata": {},
   "outputs": [],
   "source": [
    "prediction = model.predict(X_test)"
   ]
  },
  {
   "cell_type": "code",
   "execution_count": 172,
   "metadata": {},
   "outputs": [
    {
     "data": {
      "image/png": "[encoded data removed]",
      "text/plain": [
       "<Figure size 640x480 with 1 Axes>"
      ]
     },
     "metadata": {},
     "output_type": "display_data"
    }
   ],
   "source": [
    "x_ax = range(len(Y_test))\n",
    "plt.scatter(x_ax, Y_test, s=5, color=\"blue\", label=\"original\")\n",
    "plt.plot(x_ax, prediction, lw=0.8, color=\"red\", label=\"predicted\")\n",
    "plt.legend()\n",
    "plt.show()"
   ]
  },
  {
   "attachments": {},
   "cell_type": "markdown",
   "metadata": {},
   "source": [
    "#### MEAN SQUARE ERROR"
   ]
  },
  {
   "cell_type": "code",
   "execution_count": 173,
   "metadata": {},
   "outputs": [],
   "source": [
    "mse = mean_squared_error(Y_test, prediction)"
   ]
  },
  {
   "cell_type": "code",
   "execution_count": 174,
   "metadata": {},
   "outputs": [
    {
     "data": {
      "text/plain": [
       "0.0591272325324055"
      ]
     },
     "execution_count": 174,
     "metadata": {},
     "output_type": "execute_result"
    }
   ],
   "source": [
    "mse"
   ]
  },
  {
   "attachments": {},
   "cell_type": "markdown",
   "metadata": {},
   "source": [
    "#### R2 SCORE (COEFFICIENT OF DETERMINATION)"
   ]
  },
  {
   "cell_type": "code",
   "execution_count": 175,
   "metadata": {},
   "outputs": [
    {
     "name": "stdout",
     "output_type": "stream",
     "text": [
      "Test R^2     : 0.867\n",
      "Test R^2     : 0.867\n",
      "Training R^2 : 0.874\n"
     ]
    }
   ],
   "source": [
    "print('Test R^2     : %.3f'%r2_score(Y_test, prediction))\n",
    "print('Test R^2     : %.3f'%model.score(X_test, Y_test))\n",
    "print('Training R^2 : %.3f'%model.score(X_train, Y_train))"
   ]
  },
  {
   "attachments": {},
   "cell_type": "markdown",
   "metadata": {},
   "source": [
    "#### MEAN ABSOLUTE ERROR (MAE)"
   ]
  },
  {
   "cell_type": "code",
   "execution_count": 176,
   "metadata": {},
   "outputs": [
    {
     "name": "stdout",
     "output_type": "stream",
     "text": [
      "Test MAE  : 0.127\n",
      "Train MAE : 0.124\n"
     ]
    }
   ],
   "source": [
    "print('Test MAE  : %.3f'%mean_absolute_error(Y_test, prediction))\n",
    "print('Train MAE : %.3f'%mean_absolute_error(Y_train, model.predict(X_train)))"
   ]
  },
  {
   "attachments": {},
   "cell_type": "markdown",
   "metadata": {},
   "source": [
    "#### MEDIAN ABSOLUTE ERROR"
   ]
  },
  {
   "cell_type": "code",
   "execution_count": 177,
   "metadata": {},
   "outputs": [
    {
     "name": "stdout",
     "output_type": "stream",
     "text": [
      "Median Absolute Error : 0.019864563127685697\n"
     ]
    }
   ],
   "source": [
    "print('Median Absolute Error : {}'.format(median_absolute_error(Y_test, prediction)))"
   ]
  },
  {
   "attachments": {},
   "cell_type": "markdown",
   "metadata": {},
   "source": [
    "#### MAXIMUM RESIDUAL ERROR"
   ]
  },
  {
   "cell_type": "code",
   "execution_count": 178,
   "metadata": {},
   "outputs": [
    {
     "name": "stdout",
     "output_type": "stream",
     "text": [
      "Maximum Residual Error : 1.333\n"
     ]
    }
   ],
   "source": [
    "print('Maximum Residual Error : {:.3f}'.format(max_error(Y_test, prediction)))"
   ]
  },
  {
   "attachments": {},
   "cell_type": "markdown",
   "metadata": {},
   "source": [
    "#### EXPLAINED VARIANCE ERROR"
   ]
  },
  {
   "cell_type": "code",
   "execution_count": 179,
   "metadata": {},
   "outputs": [
    {
     "name": "stdout",
     "output_type": "stream",
     "text": [
      "Explained Variance Error : 0.867\n"
     ]
    }
   ],
   "source": [
    "print('Explained Variance Error : {:.3f}'.format(explained_variance_score(Y_test, prediction)))"
   ]
  },
  {
   "cell_type": "code",
   "execution_count": 180,
   "metadata": {},
   "outputs": [],
   "source": [
    "hgb_mse = mean_squared_error(Y_test, prediction)\n",
    "hgb_r2 = model.score(X_test, Y_test)\n",
    "hgb_mae = mean_absolute_error(Y_test, prediction)\n",
    "# hgb_msle = mean_squared_log_error(Y_test, prediction)\n",
    "hgb_mad = median_absolute_error(Y_test, prediction)\n",
    "hgb_mre = max_error(Y_test, prediction)\n",
    "hgb_eve = explained_variance_score(Y_test, prediction)\n"
   ]
  },
  {
   "attachments": {},
   "cell_type": "markdown",
   "metadata": {},
   "source": [
    "# ANALYSIS AND COMPARISON AMONG MODELS"
   ]
  },
  {
   "attachments": {},
   "cell_type": "markdown",
   "metadata": {},
   "source": [
    "\n",
    "| MODEL | MEAN SQUARE ERROR | R2 SCORE | MEAN ARITHMATIC ERROR | MEAN SQUARED LOG ERROR | MEDIAN ABSOLUTE ERROR | MAX ERROR | VARIANCE ERROR|\n",
    "| :- | :- | :- | :- | :- | :- | :- | :- |\n",
    "| DECISION TREE | 0.11316449920146018 | 0.7427494628288764 | 0.11213780515628564 | 0.03880640931775406 | 0.0 | 2.0 | 0.7427561190182572 |\n",
    "| RANDOM FOREST | 0.06631440793976728 | 0.8492511592852078 | 0.11049281314168377 | 0.022888041400554466 | 0.0| 1.54 | 0.8492838258776654 |\n",
    "| LINEAR REGRESSION | 0.3439679830446565 | 0.21807679058094542 | 0.48167252791576526 | 0.09791195526894318 | 0.43547730001827023 | 1.4656643977422943 | 0.2182016860436774 |\n",
    "| GRADIENT BOOSTING | 0.12496395565896389 | 0.7192444419184219 | 0.25849204484514265 | 0.04630714474887774 | 0.18389328144098716 | 1.0530824864915695 | 0.7192927986453024 |\n",
    "| HISTOGRAM GRADIENT BOOSTING | 0.0583903038450701 | 0.8688149534309364 | 0.12804983223479197 | 0 | 0.02050177774041262 | 1.3153024568678489 | 0.8688239631584778 |\n",
    "\n"
   ]
  },
  {
   "cell_type": "code",
   "execution_count": 181,
   "metadata": {},
   "outputs": [
    {
     "data": {
      "image/png": "[encoded data removed]",
      "text/plain": [
       "<Figure size 1200x800 with 1 Axes>"
      ]
     },
     "metadata": {},
     "output_type": "display_data"
    }
   ],
   "source": [
    "# set width of bar\n",
    "barWidth = 0.10\n",
    "fig = plt.subplots(figsize =(12, 8))\n",
    " \n",
    "# set height of bar\n",
    "MSE = [dt_mse, rf_mse, ln_mse, gb_mse, hgb_mse]\n",
    "R2 = [dt_r2, rf_r2, ln_r2, gb_r2, hgb_r2]\n",
    "MAE = [dt_mae, rf_mae, ln_mae, gb_mae, hgb_mae]\n",
    "MSLE = [dt_msle, rf_msle, ln_msle, gb_msle, 0]\n",
    "MAD = [dt_mad, rf_mad, ln_mad, gb_mad, hgb_mad]\n",
    "ME = [dt_mre, rf_mre, ln_mre, gb_mre, hgb_mre]\n",
    "VE = [dt_eve, rf_eve, ln_eve, gb_eve, hgb_eve]\n",
    "\n",
    " \n",
    "# Set position of bar on X axis\n",
    "br1 = np.arange(len(MSE))\n",
    "br2 = [x + barWidth for x in br1]\n",
    "br3 = [x + barWidth for x in br2]\n",
    "br4 = [x + barWidth for x in br3]\n",
    "br5 = [x + barWidth for x in br4]\n",
    "br6 = [x + barWidth for x in br5]\n",
    "br7 = [x + barWidth for x in br6]\n",
    " \n",
    "# Make the plot\n",
    "plt.bar(br1, MSE, color ='r', width = barWidth,\n",
    "        edgecolor ='grey', label ='MSE')\n",
    "plt.bar(br2, R2, color ='g', width = barWidth,\n",
    "        edgecolor ='grey', label ='R2')\n",
    "plt.bar(br3, MAE, color ='b', width = barWidth,\n",
    "        edgecolor ='grey', label ='MAE')\n",
    "plt.bar(br4, MSE, color ='y', width = barWidth,\n",
    "        edgecolor ='grey', label ='MSLE')\n",
    "plt.bar(br5, R2, color ='k', width = barWidth,\n",
    "        edgecolor ='grey', label ='MAD')\n",
    "plt.bar(br6, MAE, color ='c', width = barWidth,\n",
    "        edgecolor ='grey', label ='ME')\n",
    "plt.bar(br7, MAE, color ='m', width = barWidth,\n",
    "        edgecolor ='grey', label ='VE')\n",
    " \n",
    "# Adding Xticks\n",
    "plt.xlabel('MODELS', fontweight ='bold', fontsize = 15)\n",
    "plt.ylabel('SCORE', fontweight ='bold', fontsize = 15)\n",
    "plt.xticks([r + 3*barWidth for r in range(len(MSE))],\n",
    "        ['DT', 'RF', 'LR', 'GB', 'HGB'])\n",
    " \n",
    "plt.legend()\n",
    "plt.show()"
   ]
  },
  {
   "attachments": {},
   "cell_type": "markdown",
   "metadata": {},
   "source": [
    "# OPERATIONAL AREA"
   ]
  },
  {
   "attachments": {},
   "cell_type": "markdown",
   "metadata": {},
   "source": [
    "#### CUSTOM DATA INPUT"
   ]
  },
  {
   "cell_type": "code",
   "execution_count": 182,
   "metadata": {},
   "outputs": [],
   "source": [
    "custom_data = pd.read_csv('/home/rafi/cse404/project/custom_input.csv')"
   ]
  },
  {
   "cell_type": "code",
   "execution_count": 183,
   "metadata": {},
   "outputs": [],
   "source": [
    "custom_date = input('Enter Date ex: 1,2,3... : ')\n",
    "custom_month = input('Enter Month ex jan, feb, mar... : ')\n",
    "custom_time_zone = input('Enter Time in 24H : ')"
   ]
  },
  {
   "attachments": {},
   "cell_type": "markdown",
   "metadata": {},
   "source": [
    "#### CONVERTING HOUR TO TIME BLOCK"
   ]
  },
  {
   "cell_type": "code",
   "execution_count": 184,
   "metadata": {},
   "outputs": [],
   "source": [
    "if '0000' <= custom_time_zone < '0400' :\n",
    "    custom_time_block = 'a'\n",
    "elif '0400' <= custom_time_zone < '0800' :\n",
    "    custom_time_block = 'b'\n",
    "elif '0800' <= custom_time_zone < '1200' :\n",
    "    custom_time_block = 'c'\n",
    "elif '1200' <= custom_time_zone < '1600' :\n",
    "    custom_time_block = 'd'\n",
    "elif '1600' <= custom_time_zone < '1800' :\n",
    "    custom_time_block = 'e'\n",
    "elif '1800' <= custom_time_zone < '2400' :\n",
    "    custom_time_block = 'f'"
   ]
  },
  {
   "attachments": {},
   "cell_type": "markdown",
   "metadata": {},
   "source": [
    "#### CALCULATING DAY FROM DATE AND MONTH"
   ]
  },
  {
   "cell_type": "code",
   "execution_count": 185,
   "metadata": {},
   "outputs": [],
   "source": [
    "custom_day_find = custom_date+' '+custom_month+' '+'2023'\n",
    "day_name= ['mon', 'tue', 'wed', 'thu', 'fri', 'sat','sun']\n",
    "custom_day = datetime.datetime.strptime(custom_day_find, '%d %b %Y').weekday()\n",
    "custom_day = day_name[custom_day]\n"
   ]
  },
  {
   "attachments": {},
   "cell_type": "markdown",
   "metadata": {},
   "source": [
    "#### FETCHING WEATHER FORECAST FOR THE SPECIFIC INPUT"
   ]
  },
  {
   "cell_type": "code",
   "execution_count": 186,
   "metadata": {},
   "outputs": [],
   "source": [
    "if custom_month in ['nov', 'dec', 'jan', 'feb'] :\n",
    "    custom_weather = 2\n",
    "elif custom_month in ['jul', 'aug', 'sep', 'oct'] :\n",
    "    custom_weather = 3\n",
    "else :\n",
    "    custom_weather = 1"
   ]
  },
  {
   "attachments": {},
   "cell_type": "markdown",
   "metadata": {},
   "source": [
    "#### SAVING DATA TO CSV FILE"
   ]
  },
  {
   "cell_type": "code",
   "execution_count": 187,
   "metadata": {},
   "outputs": [],
   "source": [
    "custom_data_input = pd.DataFrame([['mirpur_10', custom_month, custom_day, custom_date, custom_time_block, custom_weather ], \n",
    "                       ['mirpur_11', custom_month, custom_day, custom_date, custom_time_block, custom_weather ],\n",
    "                       ['mirpur_12', custom_month, custom_day, custom_date, custom_time_block, custom_weather ],\n",
    "                       ['mirpur_14', custom_month, custom_day, custom_date, custom_time_block, custom_weather ],\n",
    "                       ['bijoy_shoroni', custom_month, custom_day, custom_date, custom_time_block, custom_weather ],\n",
    "                       ['cantonment', custom_month, custom_day, custom_date, custom_time_block, custom_weather ],\n",
    "                       ['jahangir_gate', custom_month, custom_day, custom_date, custom_time_block, custom_weather ],\n",
    "                       ['kalshi', custom_month, custom_day, custom_date, custom_time_block, custom_weather ],\n",
    "                       ['begum_rokeya', custom_month, custom_day, custom_date, custom_time_block, custom_weather ],\n",
    "                       ['matikata', custom_month, custom_day, custom_date, custom_time_block, custom_weather ]], \n",
    "                      columns=['location', 'month', 'day', 'date', 'time_block', 'weather'])\n",
    "custom_data_input.to_csv('custom_input.csv', index=False)"
   ]
  },
  {
   "attachments": {},
   "cell_type": "markdown",
   "metadata": {},
   "source": [
    "#### CUSTOM DATA PREPROCESSING"
   ]
  },
  {
   "cell_type": "code",
   "execution_count": 188,
   "metadata": {},
   "outputs": [],
   "source": [
    "custom_encoded_location = le.fit_transform(custom_data['location'])\n",
    "custom_encoded_month = le.fit_transform(custom_data['month'])\n",
    "custom_encoded_day = le.fit_transform(custom_data['day'])\n",
    "custom_encoded_date = le.fit_transform(custom_data['date'])\n",
    "custom_encoded_time_block = le.fit_transform(custom_data['time_block'])\n",
    "custom_encoded_weather = le.fit_transform(custom_data['weather'])"
   ]
  },
  {
   "cell_type": "code",
   "execution_count": 189,
   "metadata": {},
   "outputs": [],
   "source": [
    "C = np.array(list(zip(custom_encoded_location, custom_encoded_month, custom_encoded_day, custom_encoded_date, custom_encoded_time_block, custom_encoded_weather)))"
   ]
  },
  {
   "attachments": {},
   "cell_type": "markdown",
   "metadata": {},
   "source": [
    "#### PREDICT CUSTOM DATA"
   ]
  },
  {
   "cell_type": "code",
   "execution_count": 190,
   "metadata": {},
   "outputs": [],
   "source": [
    "prediction = model.predict(C)"
   ]
  },
  {
   "attachments": {},
   "cell_type": "markdown",
   "metadata": {},
   "source": [
    "#### MAP LOGIC"
   ]
  },
  {
   "cell_type": "code",
   "execution_count": 191,
   "metadata": {},
   "outputs": [],
   "source": [
    "def show_map() :\n",
    "    if route == route_A :\n",
    "        display(Image(filename='a.png'))\n",
    "        best_route_cost = prediction[5]+prediction[6]+prediction[4]+prediction[8]\n",
    "        print('The best route for you is as followed :')\n",
    "        print('ECB -> CANTONMENT -> JAHANGIR GATE -> BIJOY SHARANI -> BEGUM ROKEYA AVE -> AGARGAON')\n",
    "        print('''The route is selected using \n",
    "              1. ARTIFICIAL INTELLIGENCE \n",
    "              2. MACHINE LEARNING \n",
    "              3. UNIFORMED COST SEARCH \n",
    "              having the minimum cost of ''', best_route_cost)\n",
    "    elif route == route_B :\n",
    "        display(Image(filename='b.png'))\n",
    "        best_route_cost = prediction[9]+prediction[3]+prediction[6]+prediction[4]+prediction[8]\n",
    "        print('The best route for you is as followed :')\n",
    "        print('ECB -> MATIKATA -> MIRPUR 14 -> JAHANGIR GATE -> BIJOY SHARANI -> BEGUM ROKEYA AVE -> AGARGAON')\n",
    "        print('''The route is selected using \n",
    "              1. ARTIFICIAL INTELLIGENCE \n",
    "              2. MACHINE LEARNING \n",
    "              3. UNIFORMED COST SEARCH \n",
    "              having the minimum cost of ''', best_route_cost)\n",
    "    elif route == route_C :\n",
    "        display(Image(filename='c.png'))\n",
    "        best_route_cost = prediction[9]+prediction[3]+prediction[0]+prediction[8]\n",
    "        print('The best route for you is as followed :')\n",
    "        print('ECB -> MATIKATA -> MIRPUR 14 -> MIRPUR 10 -> BEGUM ROKEYA AVE -> AGARGAON')\n",
    "        print('''The route is selected using \n",
    "              1. ARTIFICIAL INTELLIGENCE \n",
    "              2. MACHINE LEARNING \n",
    "              3. UNIFORMED COST SEARCH \n",
    "              having the minimum cost of ''', best_route_cost)\n",
    "    elif route == route_D :\n",
    "        display(Image(filename='d.png'))\n",
    "        best_route_cost = prediction[7]+prediction[1]+prediction[0]+prediction[8]+prediction[3]+prediction[6]+prediction[4]\n",
    "        print('The best route for you is as followed :')\n",
    "        print('ECB -> KALSHI -> MIRPUR 11 -> MIRPUR 10 -> MIRPUR 14 -> JAHANGIR GATE -> BIJOY SHARANI -> BEGUM ROKEYA AVE -> AGARGAON')\n",
    "        print('''The route is selected using \n",
    "              1. ARTIFICIAL INTELLIGENCE \n",
    "              2. MACHINE LEARNING \n",
    "              3. UNIFORMED COST SEARCH \n",
    "              having the minimum cost of ''', best_route_cost)\n",
    "    elif route == route_E :\n",
    "        display(Image(filename='e.png'))\n",
    "        best_route_cost = prediction[7]+prediction[1]+prediction[0]+prediction[8]\n",
    "        print('The best route for you is as followed :')\n",
    "        print('ECB -> KALSHI -> MIRPUR 11 -> MIRPUR 10 -> BEGUM ROKEYA AVE -> AGARGAON')\n",
    "        print('''The route is selected using \n",
    "              1. ARTIFICIAL INTELLIGENCE \n",
    "              2. MACHINE LEARNING \n",
    "              3. UNIFORMED COST SEARCH \n",
    "              having the minimum cost of ''', best_route_cost)\n",
    "    elif route == route_F :\n",
    "        display(Image(filename='f.png'))\n",
    "        best_route_cost = prediction[7]+prediction[2]+prediction[0]+prediction[8]\n",
    "        print('The best route for you is as followed :')\n",
    "        print('ECB -> MIRPUR 12 -> MIRPUR 11 -> MIRPUR 10 -> BEGUM ROKEYA AVE -> AGARGAON')\n",
    "        print('''The route is selected using \n",
    "              1. ARTIFICIAL INTELLIGENCE \n",
    "              2. MACHINE LEARNING \n",
    "              3. UNIFORMED COST SEARCH \n",
    "              having the minimum cost of ''', best_route_cost)\n",
    "    else :\n",
    "        print('No suitable route available! Try Again')"
   ]
  },
  {
   "attachments": {},
   "cell_type": "markdown",
   "metadata": {},
   "source": [
    "#### NODE BASED PREDICTION"
   ]
  },
  {
   "cell_type": "code",
   "execution_count": 192,
   "metadata": {},
   "outputs": [
    {
     "name": "stdout",
     "output_type": "stream",
     "text": [
      "Matikata         : 1.007887202507841\n",
      "Cantonment       : 1.0079790266999462\n",
      "Mirpur 10        : 1.9930105257362698\n",
      "Mirpur 11        : 1.9944493029406698\n",
      "Mirpur 12        : 1.0080573367034908\n",
      "Mirpur 14        : 1.9949283866835066\n",
      "Begum Rokeya     : 1.9973147880894728\n",
      "Bijoy Shoroni    : 1.994579002862885\n",
      "Jahangit Gate    : 1.990534109596153\n",
      "Kalshi           : 1.007887202507841\n"
     ]
    }
   ],
   "source": [
    "print('Matikata         :', prediction[9])\n",
    "print('Cantonment       :', prediction[5])\n",
    "print('Mirpur 10        :', prediction[0])\n",
    "print('Mirpur 11        :', prediction[1])\n",
    "print('Mirpur 12        :', prediction[2])\n",
    "print('Mirpur 14        :', prediction[3])\n",
    "print('Begum Rokeya     :', prediction[8])\n",
    "print('Bijoy Shoroni    :', prediction[4])\n",
    "print('Jahangit Gate    :', prediction[6])\n",
    "print('Kalshi           :', prediction[7])"
   ]
  },
  {
   "attachments": {},
   "cell_type": "markdown",
   "metadata": {},
   "source": [
    "# SHORTEST PATH SEARCH ALGORITHM"
   ]
  },
  {
   "attachments": {},
   "cell_type": "markdown",
   "metadata": {},
   "source": [
    "#### DEIFINING UNIFORM COST SEARCH"
   ]
  },
  {
   "cell_type": "code",
   "execution_count": 193,
   "metadata": {},
   "outputs": [],
   "source": [
    "class Node(object):\n",
    "    \"\"\"This class represents a node in a graph.\"\"\"\n",
    "    \n",
    "    def __init__(self, label: str=None):\n",
    "        \"\"\"\n",
    "        Initialize a new node.\n",
    "        \n",
    "        Args:\n",
    "            label: the string identifier for the node\n",
    "        \"\"\"\n",
    "        self.label = label\n",
    "        self.children = []\n",
    "        \n",
    "    def __lt__(self,other):\n",
    "        \"\"\"\n",
    "        Perform the less than operation (self < other).\n",
    "        \n",
    "        Args:\n",
    "            other: the other Node to compare to\n",
    "        \"\"\"\n",
    "        return (self.label < other.label)\n",
    "    \n",
    "    def __gt__(self,other):\n",
    "        \"\"\"\n",
    "        Perform the greater than operation (self > other).\n",
    "        \n",
    "        Args:\n",
    "            other: the other Node to compare to\n",
    "        \"\"\"\n",
    "        return (self.label > other.label)\n",
    "    \n",
    "    def __repr__(self):\n",
    "        \"\"\"Return a string form of this node.\"\"\"\n",
    "        return '{} -> {}'.format(self.label, self.children)\n",
    "    \n",
    "    def add_child(self, node, cost=1):\n",
    "        \"\"\"\n",
    "        Add a child node to this node.\n",
    "        \n",
    "        Args:\n",
    "            node: the node to add to the children\n",
    "            cost: the cost of the edge (default 1)\n",
    "        \"\"\"\n",
    "        edge = Edge(self, node, cost)\n",
    "        self.children.append(edge)\n",
    "    \n",
    "    \n",
    "class Edge(object):\n",
    "    \"\"\"This class represents an edge in a graph.\"\"\"\n",
    "    \n",
    "    def __init__(self, source: Node, destination: Node, cost: int=1):\n",
    "        \"\"\"\n",
    "        Initialize a new edge.\n",
    "        \n",
    "        Args:\n",
    "            source: the source of the edge\n",
    "            destination: the destination of the edge\n",
    "            cost: the cost of the edge (default 1)\n",
    "        \"\"\"\n",
    "        self.source = source\n",
    "        self.destination = destination\n",
    "        self.cost = cost\n",
    "    \n",
    "    def __repr__(self):\n",
    "        \"\"\"Return a string form of this edge.\"\"\"\n",
    "        return '{}: {}'.format(self.cost, self.destination.label)\n",
    "    \n",
    "def ucs(root, goal):\n",
    "    \"\"\"\n",
    "    Return the uniform cost search path from root to gaol.\n",
    "    \n",
    "    Args:\n",
    "        root: the starting node for the search\n",
    "        goal: the goal node for the search\n",
    "        \n",
    "    Returns: a list with the path from root to goal\n",
    "    \n",
    "    Raises: ValueError if goal isn't in the graph\n",
    "    \"\"\"\n",
    "    # create a priority queue of paths\n",
    "    queue = PriorityQueue()\n",
    "    queue.put((0, [root]))\n",
    "    # iterate over the items in the queue\n",
    "    while not queue.empty():\n",
    "        # get the highest priority item\n",
    "        pair = queue.get()\n",
    "        current = pair[1][-1]\n",
    "        # if it's the goal, return\n",
    "        if current.label == goal:\n",
    "            return pair[1]\n",
    "        # add all the edges to the priority queue\n",
    "        for edge in current.children:\n",
    "            # create a new path with the node from the edge\n",
    "            new_path = list(pair[1])\n",
    "            new_path.append(edge.destination)\n",
    "            # append the new path to the queue with the edges priority\n",
    "            queue.put((pair[0] + edge.cost, new_path))"
   ]
  },
  {
   "attachments": {},
   "cell_type": "markdown",
   "metadata": {},
   "source": [
    "#### DEFINING NODES"
   ]
  },
  {
   "cell_type": "code",
   "execution_count": 194,
   "metadata": {},
   "outputs": [],
   "source": [
    "ECB = Node('ECB')\n",
    "CANTONMENT = Node('CANTONMENT')\n",
    "MATIKATA = Node('MATIKATA')\n",
    "KALSHI = Node('KALSHI')\n",
    "MIRPUR_12 = Node('MIRPUR_12')\n",
    "JAHANGIR_GATE = Node('JAHANGIR_GATE')\n",
    "MIRPUR_14 = Node('MIRPUR_14')\n",
    "MIRPUR_10 = Node('MIRPUR_10')\n",
    "MIRPUR_11 = Node('MIRPUR_11')\n",
    "BIJOY_SHARANI = Node('BIJOY_SHARANI')\n",
    "BEGUM_ROKEYA = Node('BEGUM_ROKEYA')\n",
    "AGARGAON = Node('AGARGAON')"
   ]
  },
  {
   "cell_type": "code",
   "execution_count": 195,
   "metadata": {},
   "outputs": [],
   "source": [
    "route_A = ['ECB', 'CANTONMENT', 'JAHANGIR_GATE', 'BIJOY_SHARANI', 'BEGUM_ROKEYA', 'AGARGAON']\n",
    "route_B = ['ECB', 'MATIKATA', 'MIRPUR_14', 'JAHANGIR_GATE', 'BIJOY_SHARANI', 'BEGUM_ROKEYA', 'AGARGAON']\n",
    "route_C = ['ECB', 'MATIKATA', 'MIRPUR_14', 'MIRPUR_10', 'BEGUM_ROKEYA', 'AGARGAON']\n",
    "route_D = ['ECB', 'KALSHI', 'MIRPUR_11', 'MIRPUR_10', 'MIRPUR_14', 'JAHANGIR_GATE', 'BIJOY_SHARANI', 'AGARGAON']\n",
    "route_E = ['ECB', 'KALSHI', 'MIRPUR_11', 'MIRPUR_10', 'BEGUM_ROKEYA', 'AGARGAON']\n",
    "route_F = ['ECB', 'MIRPUR_12', 'MIRPUR_11', 'MIRPUR_10', 'BEGUM_ROKEYA', 'AGARGAON']"
   ]
  },
  {
   "attachments": {},
   "cell_type": "markdown",
   "metadata": {},
   "source": [
    "#### ASSIGNING BRANCHES WITH PREDICTED VALUES"
   ]
  },
  {
   "cell_type": "code",
   "execution_count": 196,
   "metadata": {},
   "outputs": [],
   "source": [
    "ECB.add_child(CANTONMENT, prediction[5]+0)\n",
    "ECB.add_child(MATIKATA, prediction[9]+0)\n",
    "ECB.add_child(KALSHI, prediction[7]+0)\n",
    "ECB.add_child(MIRPUR_12, prediction[2]+0)\n",
    "\n",
    "CANTONMENT.add_child(JAHANGIR_GATE, con()*prediction[6]+con()*prediction[5])\n",
    "\n",
    "MATIKATA.add_child(MIRPUR_14, con()*prediction[3]+con()*prediction[9])\n",
    "\n",
    "KALSHI.add_child(MIRPUR_11, con()*prediction[1]+con()*prediction[7])\n",
    "\n",
    "MIRPUR_12.add_child(MIRPUR_11, con()*prediction[1]+con()*prediction[2])\n",
    "\n",
    "JAHANGIR_GATE.add_child(BIJOY_SHARANI, con()*prediction[4]+con()*prediction[6])\n",
    "JAHANGIR_GATE.add_child(MIRPUR_14, con()*prediction[3]+con()*prediction[6])\n",
    "\n",
    "MIRPUR_11.add_child(MIRPUR_10, con()*prediction[0]+con()*prediction[1])\n",
    "\n",
    "MIRPUR_10.add_child(MIRPUR_14, con()*prediction[3]+con()*prediction[0])\n",
    "\n",
    "MIRPUR_14.add_child(MIRPUR_10, con()*prediction[0]+con()*prediction[3])\n",
    "MIRPUR_14.add_child(JAHANGIR_GATE, con()*prediction[6]+con()*prediction[3])\n",
    "\n",
    "BIJOY_SHARANI.add_child(BEGUM_ROKEYA, con()*prediction[8]+con()*prediction[4])\n",
    "\n",
    "MIRPUR_10.add_child(BEGUM_ROKEYA, con()*prediction[8]+con()*prediction[0])\n",
    "\n",
    "BEGUM_ROKEYA.add_child(AGARGAON, 0+con()*prediction[8])"
   ]
  },
  {
   "attachments": {},
   "cell_type": "markdown",
   "metadata": {},
   "source": [
    "#### OVERVIEW OF PREDICTED VALUES OF ALL NODES"
   ]
  },
  {
   "cell_type": "code",
   "execution_count": 197,
   "metadata": {},
   "outputs": [
    {
     "name": "stdout",
     "output_type": "stream",
     "text": [
      "* ECB -> [1.0079790266999462: CANTONMENT, 1.007887202507841: MATIKATA, 1.007887202507841: KALSHI, 1.0080573367034908: MIRPUR_12]\n",
      "* CANTONMENT -> [4.006492162996046: JAHANGIR_GATE]\n",
      "* MATIKATA -> [4.010702791699188: MIRPUR_14]\n",
      "* KALSHI -> [9.007009516345533: MIRPUR_11]\n",
      "* MIRPUR_12 -> [3.0025066396441606: MIRPUR_11]\n",
      "* JAHANGIR_GATE -> [9.96480522778096: BIJOY_SHARANI, 9.965853379242827: MIRPUR_14]\n",
      "* MIRPUR_11 -> [5.981909131617609: MIRPUR_10]\n",
      "* MIRPUR_14 -> [11.963816737259329: MIRPUR_10, 7.975319269646673: JAHANGIR_GATE]\n",
      "* MIRPUR_10 -> [7.975877824839553: MIRPUR_14, 9.973661153387756: BEGUM_ROKEYA]\n",
      "* BIJOY_SHARANI -> [11.975681372857073: BEGUM_ROKEYA]\n",
      "* BEGUM_ROKEYA -> [1.9973147880894728: AGARGAON]\n",
      "* AGARGAON -> []\n"
     ]
    }
   ],
   "source": [
    "_ = [print('*', node) for node in [ECB, CANTONMENT, MATIKATA, KALSHI, MIRPUR_12, JAHANGIR_GATE, MIRPUR_11, MIRPUR_14, MIRPUR_10, BIJOY_SHARANI, BEGUM_ROKEYA, AGARGAON]]"
   ]
  },
  {
   "cell_type": "code",
   "execution_count": 198,
   "metadata": {},
   "outputs": [],
   "source": [
    "route = []\n",
    "for x in ucs(ECB, 'AGARGAON') :\n",
    "    route_temp = str(x).split(' ')\n",
    "    route.append(route_temp[0])"
   ]
  },
  {
   "cell_type": "code",
   "execution_count": 199,
   "metadata": {},
   "outputs": [
    {
     "data": {
      "text/plain": [
       "[ECB -> [1.0079790266999462: CANTONMENT, 1.007887202507841: MATIKATA, 1.007887202507841: KALSHI, 1.0080573367034908: MIRPUR_12],\n",
       " MIRPUR_12 -> [3.0025066396441606: MIRPUR_11],\n",
       " MIRPUR_11 -> [5.981909131617609: MIRPUR_10],\n",
       " MIRPUR_10 -> [7.975877824839553: MIRPUR_14, 9.973661153387756: BEGUM_ROKEYA],\n",
       " BEGUM_ROKEYA -> [1.9973147880894728: AGARGAON],\n",
       " AGARGAON -> []]"
      ]
     },
     "execution_count": 199,
     "metadata": {},
     "output_type": "execute_result"
    }
   ],
   "source": [
    "ucs(ECB, 'AGARGAON')"
   ]
  },
  {
   "cell_type": "code",
   "execution_count": 200,
   "metadata": {},
   "outputs": [
    {
     "data": {
      "image/png": "[encoded data removed]",
      "text/plain": [
       "<IPython.core.display.Image object>"
      ]
     },
     "metadata": {},
     "output_type": "display_data"
    },
    {
     "name": "stdout",
     "output_type": "stream",
     "text": [
      "The best route for you is as followed :\n",
      "ECB -> MIRPUR 12 -> MIRPUR 11 -> MIRPUR 10 -> BEGUM ROKEYA AVE -> AGARGAON\n",
      "The route is selected using \n",
      "              1. ARTIFICIAL INTELLIGENCE \n",
      "              2. MACHINE LEARNING \n",
      "              3. UNIFORMED COST SEARCH \n",
      "              having the minimum cost of  6.006269853037074\n"
     ]
    }
   ],
   "source": [
    "show_map()"
   ]
  }
 ],
 "metadata": {
  "kernelspec": {
   "display_name": "Python 3 (ipykernel)",
   "language": "python",
   "name": "python3"
  },
  "language_info": {
   "codemirror_mode": {
    "name": "ipython",
    "version": 3
   },
   "file_extension": ".py",
   "mimetype": "text/x-python",
   "name": "python",
   "nbconvert_exporter": "python",
   "pygments_lexer": "ipython3",
   "version": "3.10.6"
  }
 },
 "nbformat": 4,
 "nbformat_minor": 2
}
